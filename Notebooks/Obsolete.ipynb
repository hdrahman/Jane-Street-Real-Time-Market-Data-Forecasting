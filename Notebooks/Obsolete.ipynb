{
 "cells": [
  {
   "cell_type": "code",
   "execution_count": 3,
   "id": "a096a004-a9d6-4c6e-abf7-2ae66861e83d",
   "metadata": {
    "tags": []
   },
   "outputs": [],
   "source": [
    "import pandas as pd\n",
    "train_data = pd.read_parquet('../data/XGBoost_data.parquet')\n",
    "train_data = train_data.sort_values(by=['symbol_id', 'date_id', 'time_id'])\n"
   ]
  },
  {
   "cell_type": "code",
   "execution_count": 4,
   "id": "08760bf7-4e46-4e96-9e06-97defd79f4dc",
   "metadata": {
    "tags": []
   },
   "outputs": [],
   "source": [
    "# List of responder columns\n",
    "responder_columns = [col for col in train_data.columns if col.startswith('responder_')]\n",
    "\n",
    "# Generate lag features\n",
    "for responder in responder_columns:\n",
    "    train_data[f'{responder}_lag_1'] = train_data.groupby('symbol_id')[responder].shift(1)\n"
   ]
  },
  {
   "cell_type": "code",
   "execution_count": 5,
   "id": "ef21ca58-ef2f-4645-8a62-6dae9f4cec0f",
   "metadata": {
    "tags": []
   },
   "outputs": [],
   "source": [
    "for responder in responder_columns:\n",
    "    train_data[f'{responder}_rolling_mean_3'] = train_data.groupby('symbol_id')[responder].rolling(window=3).mean().reset_index(0, drop=True)\n",
    "for responder in responder_columns:\n",
    "    train_data[f'{responder}_lag_diff_1'] = train_data[responder] - train_data[f'{responder}_lag_1']\n",
    "    train_data[f'{responder}_lag_ratio_1'] = train_data[responder] / (train_data[f'{responder}_lag_1'] + 1e-8)\n"
   ]
  },
  {
   "cell_type": "code",
   "execution_count": null,
   "id": "554cbab1-e199-40d4-bd8c-6c9a1bdc5b8a",
   "metadata": {
    "tags": []
   },
   "outputs": [],
   "source": [
    "print(train_data.head())\n",
    "print(train_data.columns)\n"
   ]
  },
  {
   "cell_type": "code",
   "execution_count": 9,
   "id": "b8bd5988-0bb5-4ad8-8bc0-5aa29855af04",
   "metadata": {
    "tags": []
   },
   "outputs": [],
   "source": [
    "train_data.fillna(0, inplace=True)\n"
   ]
  },
  {
   "cell_type": "code",
   "execution_count": null,
   "id": "c0c286e4-654b-4f2f-9e77-c4785f33a41d",
   "metadata": {
    "tags": []
   },
   "outputs": [],
   "source": [
    "train_data.to_parquet('../data/XGBoost_data.parquet', index=False)"
   ]
  },
  {
   "cell_type": "code",
   "execution_count": null,
   "id": "a67bd226-b2a6-4968-aa81-c05839f3da0e",
   "metadata": {
    "tags": []
   },
   "outputs": [],
   "source": [
    "import pandas as pd\n",
    "updated_train_data = pd.read_parquet('../data/XGBoost_data.parquet')\n",
    "print(updated_train_data.head())\n",
    "print(updated_train_data.columns)\n"
   ]
  },
  {
   "cell_type": "code",
   "execution_count": 1,
   "id": "d331e014-5d76-4e84-8416-cad6e542f3b1",
   "metadata": {
    "tags": []
   },
   "outputs": [
    {
     "name": "stdout",
     "output_type": "stream",
     "text": [
      "Feature Columns: 67\n",
      "Responder Columns: 45\n"
     ]
    }
   ],
   "source": [
    "import pandas as pd\n",
    "train_data = pd.read_parquet('../data/XGBoost_data.parquet')\n",
    "\n",
    "\n",
    "# Identify feature columns (e.g., feature_00, feature_01, ...)\n",
    "feature_cols = [col for col in train_data.columns if col.startswith('feature_')]\n",
    "\n",
    "# Optional: Verify responder columns remain untouched\n",
    "responder_cols = [col for col in train_data.columns if col.startswith('responder_')]\n",
    "\n",
    "print(f\"Feature Columns: {len(feature_cols)}\")\n",
    "print(f\"Responder Columns: {len(responder_cols)}\")\n"
   ]
  },
  {
   "cell_type": "code",
   "execution_count": 2,
   "id": "5c3d22f8-b01c-41af-b5be-98083fabd4da",
   "metadata": {
    "tags": []
   },
   "outputs": [],
   "source": [
    "from sklearn.feature_selection import VarianceThreshold\n",
    "\n",
    "# Apply VarianceThreshold on feature columns\n",
    "selector = VarianceThreshold(threshold=0.01)  # 1% variance threshold\n",
    "filtered_features = selector.fit_transform(train_data[feature_cols])\n",
    "\n",
    "# Get remaining feature names\n",
    "selected_feature_names = selector.get_feature_names_out(feature_cols)\n",
    "\n",
    "# Create a new DataFrame with filtered features and untouched responders\n",
    "train_data_filtered = pd.concat([\n",
    "    pd.DataFrame(filtered_features, columns=selected_feature_names),  # Filtered features\n",
    "    train_data[responder_cols],  # Original responders\n",
    "    train_data[['date_id', 'time_id', 'symbol_id']]  # Other key columns\n",
    "], axis=1)\n"
   ]
  },
  {
   "cell_type": "code",
   "execution_count": 3,
   "id": "87d0be56-8306-4b57-909f-a4ab20be3d42",
   "metadata": {
    "tags": []
   },
   "outputs": [],
   "source": [
    "train_data_filtered.to_parquet('../data/XGBoost_data_filtered.parquet', index=False)\n"
   ]
  },
  {
   "cell_type": "code",
   "execution_count": 1,
   "id": "ba50888e-7c64-488e-a3a9-0dc78eff1504",
   "metadata": {
    "tags": []
   },
   "outputs": [
    {
     "name": "stdout",
     "output_type": "stream",
     "text": [
      "   feature_00  feature_01  feature_04  feature_05  feature_06  feature_07  \\\n",
      "0    3.674681    0.559137   -2.866148    1.045130    1.190328   -0.050570   \n",
      "1    3.655818   -0.729315   -2.866148    1.463785    1.666280    0.389528   \n",
      "2    3.674681   -0.448754   -2.866148    1.694624    1.666280    1.319947   \n",
      "3    3.461334   -0.521957   -2.547946    1.694624    1.666280    1.692438   \n",
      "4    3.524649   -0.812735   -2.866148    1.694624    1.666280    1.692438   \n",
      "\n",
      "   feature_08  feature_09  feature_10  feature_11  ...  \\\n",
      "0   -0.294838        11.0         7.0        76.0  ...   \n",
      "1   -0.634664        11.0         7.0        76.0  ...   \n",
      "2   -0.586630        11.0         7.0        76.0  ...   \n",
      "3   -0.637521        11.0         7.0        76.0  ...   \n",
      "4   -0.627068        11.0         7.0        76.0  ...   \n",
      "\n",
      "   responder_5_lag_ratio_1  responder_6_lag_diff_1  responder_6_lag_ratio_1  \\\n",
      "0                 0.000000                0.000000                 0.000000   \n",
      "1                 0.024018                0.722672                 1.265292   \n",
      "2                94.023697               -0.686097                 0.800943   \n",
      "3                 1.983980                2.239366                 1.811178   \n",
      "4                 0.724970               -0.671191                 0.865762   \n",
      "\n",
      "   responder_7_lag_diff_1  responder_7_lag_ratio_1  responder_8_lag_diff_1  \\\n",
      "0                     0.0                      0.0                0.000000   \n",
      "1                     0.0                      1.0                1.093615   \n",
      "2                     0.0                      1.0                0.573711   \n",
      "3                     0.0                      1.0               -0.293059   \n",
      "4                     0.0                      1.0                0.620420   \n",
      "\n",
      "   responder_8_lag_ratio_1  date_id  time_id  symbol_id  \n",
      "0                 0.000000      553        0          0  \n",
      "1                 1.363894      553        1          0  \n",
      "2                 1.139966      553        2          0  \n",
      "3                 0.937282      553        3          0  \n",
      "4                 1.141662      553        4          0  \n",
      "\n",
      "[5 rows x 115 columns]\n",
      "Index(['feature_00', 'feature_01', 'feature_04', 'feature_05', 'feature_06',\n",
      "       'feature_07', 'feature_08', 'feature_09', 'feature_10', 'feature_11',\n",
      "       ...\n",
      "       'responder_5_lag_ratio_1', 'responder_6_lag_diff_1',\n",
      "       'responder_6_lag_ratio_1', 'responder_7_lag_diff_1',\n",
      "       'responder_7_lag_ratio_1', 'responder_8_lag_diff_1',\n",
      "       'responder_8_lag_ratio_1', 'date_id', 'time_id', 'symbol_id'],\n",
      "      dtype='object', length=115)\n"
     ]
    }
   ],
   "source": [
    "import pandas as pd\n",
    "updated_train_data = pd.read_parquet('../data/XGBoost_data_filtered.parquet')\n",
    "print(updated_train_data.head())\n",
    "print(updated_train_data.columns)"
   ]
  },
  {
   "cell_type": "code",
   "execution_count": null,
   "id": "a3e3fc92-0248-4888-9676-eb347a6d1b93",
   "metadata": {},
   "outputs": [],
   "source": []
  }
 ],
 "metadata": {
  "environment": {
   "kernel": "conda-base-py",
   "name": "workbench-notebooks.m126",
   "type": "gcloud",
   "uri": "us-docker.pkg.dev/deeplearning-platform-release/gcr.io/workbench-notebooks:m126"
  },
  "kernelspec": {
   "display_name": "Python 3 (ipykernel)",
   "language": "python",
   "name": "conda-base-py"
  },
  "language_info": {
   "codemirror_mode": {
    "name": "ipython",
    "version": 3
   },
   "file_extension": ".py",
   "mimetype": "text/x-python",
   "name": "python",
   "nbconvert_exporter": "python",
   "pygments_lexer": "ipython3",
   "version": "3.10.15"
  }
 },
 "nbformat": 4,
 "nbformat_minor": 5
}
