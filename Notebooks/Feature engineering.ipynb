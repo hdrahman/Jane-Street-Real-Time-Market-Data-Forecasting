{
 "cells": [
  {
   "cell_type": "code",
   "execution_count": 2,
   "id": "3804dcc7-277c-495b-8772-f17e0045c556",
   "metadata": {
    "tags": []
   },
   "outputs": [
    {
     "data": {
      "text/html": [
       "<div><style>\n",
       ".dataframe > thead > tr,\n",
       ".dataframe > tbody > tr {\n",
       "  text-align: right;\n",
       "  white-space: pre-wrap;\n",
       "}\n",
       "</style>\n",
       "<small>shape: (5, 93)</small><table border=\"1\" class=\"dataframe\"><thead><tr><th>date_id</th><th>time_id</th><th>symbol_id</th><th>weight</th><th>feature_00</th><th>feature_01</th><th>feature_02</th><th>feature_03</th><th>feature_04</th><th>feature_05</th><th>feature_06</th><th>feature_07</th><th>feature_08</th><th>feature_09</th><th>feature_10</th><th>feature_11</th><th>feature_12</th><th>feature_13</th><th>feature_14</th><th>feature_15</th><th>feature_16</th><th>feature_17</th><th>feature_18</th><th>feature_19</th><th>feature_20</th><th>feature_21</th><th>feature_22</th><th>feature_23</th><th>feature_24</th><th>feature_25</th><th>feature_26</th><th>feature_27</th><th>feature_28</th><th>feature_29</th><th>feature_30</th><th>feature_31</th><th>feature_32</th><th>&hellip;</th><th>feature_52</th><th>feature_53</th><th>feature_54</th><th>feature_55</th><th>feature_56</th><th>feature_57</th><th>feature_58</th><th>feature_59</th><th>feature_60</th><th>feature_61</th><th>feature_62</th><th>feature_63</th><th>feature_64</th><th>feature_65</th><th>feature_66</th><th>feature_67</th><th>feature_68</th><th>feature_69</th><th>feature_70</th><th>feature_71</th><th>feature_72</th><th>feature_73</th><th>feature_74</th><th>feature_75</th><th>feature_76</th><th>feature_77</th><th>feature_78</th><th>responder_0</th><th>responder_1</th><th>responder_2</th><th>responder_3</th><th>responder_4</th><th>responder_5</th><th>responder_6</th><th>responder_7</th><th>responder_8</th><th>partition_id</th></tr><tr><td>i16</td><td>i16</td><td>i8</td><td>f32</td><td>f32</td><td>f32</td><td>f32</td><td>f32</td><td>f32</td><td>f32</td><td>f32</td><td>f32</td><td>f32</td><td>i8</td><td>i8</td><td>i16</td><td>f32</td><td>f32</td><td>f32</td><td>f32</td><td>f32</td><td>f32</td><td>f32</td><td>f32</td><td>f32</td><td>f32</td><td>f32</td><td>f32</td><td>f32</td><td>f32</td><td>f32</td><td>f32</td><td>f32</td><td>f32</td><td>f32</td><td>f32</td><td>f32</td><td>&hellip;</td><td>f32</td><td>f32</td><td>f32</td><td>f32</td><td>f32</td><td>f32</td><td>f32</td><td>f32</td><td>f32</td><td>f32</td><td>f32</td><td>f32</td><td>f32</td><td>f32</td><td>f32</td><td>f32</td><td>f32</td><td>f32</td><td>f32</td><td>f32</td><td>f32</td><td>f32</td><td>f32</td><td>f32</td><td>f32</td><td>f32</td><td>f32</td><td>f32</td><td>f32</td><td>f32</td><td>f32</td><td>f32</td><td>f32</td><td>f32</td><td>f32</td><td>f32</td><td>i64</td></tr></thead><tbody><tr><td>85</td><td>0</td><td>0</td><td>3.109312</td><td>null</td><td>null</td><td>null</td><td>null</td><td>null</td><td>-0.450499</td><td>-1.616381</td><td>-2.013025</td><td>-0.017599</td><td>11</td><td>7</td><td>76</td><td>-1.077771</td><td>0.039866</td><td>-0.65978</td><td>null</td><td>-0.261007</td><td>null</td><td>-1.936319</td><td>-1.190953</td><td>0.696218</td><td>null</td><td>0.484168</td><td>0.294946</td><td>-0.96987</td><td>0.160298</td><td>null</td><td>null</td><td>0.879279</td><td>-0.541101</td><td>-0.214313</td><td>null</td><td>null</td><td>&hellip;</td><td>null</td><td>null</td><td>-1.164152</td><td>null</td><td>-2.935171</td><td>1.012571</td><td>null</td><td>-3.249436</td><td>-0.887255</td><td>-0.869813</td><td>null</td><td>null</td><td>null</td><td>null</td><td>null</td><td>-0.951475</td><td>0.230537</td><td>-0.596571</td><td>-0.856555</td><td>-0.195387</td><td>-0.671425</td><td>null</td><td>null</td><td>-0.281401</td><td>-0.210105</td><td>-0.246561</td><td>-0.286114</td><td>0.62552</td><td>-0.310852</td><td>-0.049727</td><td>0.534198</td><td>0.198891</td><td>-1.069264</td><td>0.08607</td><td>0.273769</td><td>-1.012277</td><td>0</td></tr><tr><td>85</td><td>0</td><td>1</td><td>4.173016</td><td>null</td><td>null</td><td>null</td><td>null</td><td>null</td><td>-0.561003</td><td>-2.013899</td><td>-1.988785</td><td>-0.028133</td><td>11</td><td>7</td><td>76</td><td>-0.89596</td><td>0.358419</td><td>-0.424778</td><td>null</td><td>-0.096455</td><td>null</td><td>-0.653376</td><td>-1.457888</td><td>1.792939</td><td>null</td><td>2.419092</td><td>1.158298</td><td>-1.14655</td><td>0.881267</td><td>null</td><td>null</td><td>1.163396</td><td>-0.303266</td><td>-0.182955</td><td>null</td><td>null</td><td>&hellip;</td><td>null</td><td>null</td><td>-2.188706</td><td>null</td><td>-2.328486</td><td>0.458066</td><td>null</td><td>-1.753266</td><td>-1.392433</td><td>-0.869813</td><td>0.688687</td><td>0.222187</td><td>1.374588</td><td>-0.990737</td><td>-1.071639</td><td>-0.788221</td><td>0.49704</td><td>-0.285493</td><td>-0.868851</td><td>-0.05351</td><td>-0.686293</td><td>null</td><td>null</td><td>-0.207581</td><td>-0.246351</td><td>-0.27867</td><td>-0.302826</td><td>0.503355</td><td>-0.094774</td><td>1.376147</td><td>0.487139</td><td>-0.026323</td><td>1.262791</td><td>0.233934</td><td>0.022418</td><td>0.401515</td><td>0</td></tr><tr><td>85</td><td>0</td><td>2</td><td>1.381817</td><td>null</td><td>null</td><td>null</td><td>null</td><td>null</td><td>-0.7775</td><td>-2.553066</td><td>-3.040147</td><td>-0.03267</td><td>81</td><td>2</td><td>59</td><td>-0.566227</td><td>5.327168</td><td>1.528497</td><td>null</td><td>-0.112716</td><td>null</td><td>-1.198659</td><td>-1.770741</td><td>-0.638912</td><td>null</td><td>-0.356265</td><td>-0.464235</td><td>-1.340848</td><td>-1.365498</td><td>null</td><td>null</td><td>0.441449</td><td>-0.586902</td><td>-0.079118</td><td>null</td><td>null</td><td>&hellip;</td><td>null</td><td>null</td><td>-0.672283</td><td>null</td><td>-2.163897</td><td>0.789618</td><td>null</td><td>-2.023751</td><td>-1.206249</td><td>-0.869813</td><td>null</td><td>null</td><td>null</td><td>null</td><td>null</td><td>-0.480621</td><td>5.894732</td><td>1.228865</td><td>-0.608697</td><td>4.075598</td><td>1.069681</td><td>null</td><td>null</td><td>-0.184736</td><td>-0.345173</td><td>-0.151796</td><td>-0.264521</td><td>5.0</td><td>5.0</td><td>-1.982797</td><td>5.0</td><td>5.0</td><td>-0.205135</td><td>0.4033</td><td>0.793304</td><td>2.807026</td><td>0</td></tr><tr><td>85</td><td>0</td><td>7</td><td>2.106224</td><td>null</td><td>null</td><td>null</td><td>null</td><td>null</td><td>-0.995678</td><td>-1.619547</td><td>-2.39677</td><td>-0.021119</td><td>11</td><td>7</td><td>76</td><td>-1.318322</td><td>0.047269</td><td>-0.751898</td><td>null</td><td>1.456272</td><td>null</td><td>-1.3534</td><td>-1.394393</td><td>3.133692</td><td>null</td><td>0.178299</td><td>0.327529</td><td>-1.510156</td><td>-1.147885</td><td>null</td><td>null</td><td>-0.210504</td><td>0.401724</td><td>1.20255</td><td>null</td><td>null</td><td>&hellip;</td><td>null</td><td>null</td><td>-2.516531</td><td>null</td><td>-1.294529</td><td>1.0471</td><td>null</td><td>-2.190469</td><td>-1.514988</td><td>-0.869813</td><td>null</td><td>null</td><td>null</td><td>null</td><td>null</td><td>-1.055661</td><td>0.463701</td><td>-0.682089</td><td>-1.007249</td><td>-0.312894</td><td>-1.017619</td><td>null</td><td>null</td><td>-0.276763</td><td>-0.255561</td><td>-0.328656</td><td>-0.257443</td><td>-0.781161</td><td>-0.631942</td><td>0.152099</td><td>-2.374984</td><td>-1.785865</td><td>-0.273755</td><td>-1.696202</td><td>-0.548582</td><td>-0.81586</td><td>0</td></tr><tr><td>85</td><td>0</td><td>8</td><td>1.707147</td><td>null</td><td>null</td><td>null</td><td>null</td><td>null</td><td>-0.528211</td><td>-1.554091</td><td>-1.63106</td><td>-0.008948</td><td>15</td><td>1</td><td>62</td><td>1.293916</td><td>18.171343</td><td>7.267656</td><td>null</td><td>0.585029</td><td>null</td><td>-1.528019</td><td>-3.131001</td><td>-0.502737</td><td>null</td><td>-0.314039</td><td>0.481302</td><td>-1.077692</td><td>-0.561491</td><td>null</td><td>null</td><td>-1.558967</td><td>0.12489</td><td>0.720276</td><td>null</td><td>null</td><td>&hellip;</td><td>null</td><td>null</td><td>-2.123032</td><td>null</td><td>-0.706382</td><td>1.002747</td><td>null</td><td>-2.344671</td><td>-1.567466</td><td>-0.869813</td><td>null</td><td>3.649192</td><td>2.833574</td><td>null</td><td>null</td><td>0.606422</td><td>28.107288</td><td>3.738327</td><td>0.795478</td><td>16.122564</td><td>6.776067</td><td>null</td><td>null</td><td>-0.22111</td><td>-0.286459</td><td>-0.292706</td><td>-0.256621</td><td>4.280499</td><td>4.502849</td><td>1.735608</td><td>4.230651</td><td>5.0</td><td>-0.107674</td><td>1.533022</td><td>5.0</td><td>-4.17551</td><td>0</td></tr></tbody></table></div>"
      ],
      "text/plain": [
       "shape: (5, 93)\n",
       "┌─────────┬─────────┬───────────┬──────────┬───┬────────────┬────────────┬────────────┬────────────┐\n",
       "│ date_id ┆ time_id ┆ symbol_id ┆ weight   ┆ … ┆ responder_ ┆ responder_ ┆ responder_ ┆ partition_ │\n",
       "│ ---     ┆ ---     ┆ ---       ┆ ---      ┆   ┆ 6          ┆ 7          ┆ 8          ┆ id         │\n",
       "│ i16     ┆ i16     ┆ i8        ┆ f32      ┆   ┆ ---        ┆ ---        ┆ ---        ┆ ---        │\n",
       "│         ┆         ┆           ┆          ┆   ┆ f32        ┆ f32        ┆ f32        ┆ i64        │\n",
       "╞═════════╪═════════╪═══════════╪══════════╪═══╪════════════╪════════════╪════════════╪════════════╡\n",
       "│ 85      ┆ 0       ┆ 0         ┆ 3.109312 ┆ … ┆ 0.08607    ┆ 0.273769   ┆ -1.012277  ┆ 0          │\n",
       "│ 85      ┆ 0       ┆ 1         ┆ 4.173016 ┆ … ┆ 0.233934   ┆ 0.022418   ┆ 0.401515   ┆ 0          │\n",
       "│ 85      ┆ 0       ┆ 2         ┆ 1.381817 ┆ … ┆ 0.4033     ┆ 0.793304   ┆ 2.807026   ┆ 0          │\n",
       "│ 85      ┆ 0       ┆ 7         ┆ 2.106224 ┆ … ┆ -1.696202  ┆ -0.548582  ┆ -0.81586   ┆ 0          │\n",
       "│ 85      ┆ 0       ┆ 8         ┆ 1.707147 ┆ … ┆ 1.533022   ┆ 5.0        ┆ -4.17551   ┆ 0          │\n",
       "└─────────┴─────────┴───────────┴──────────┴───┴────────────┴────────────┴────────────┴────────────┘"
      ]
     },
     "execution_count": 2,
     "metadata": {},
     "output_type": "execute_result"
    }
   ],
   "source": [
    "import polars as pl\n",
    "\n",
    "# Load the raw data (only rows with date_id >= 85)\n",
    "train_data = pl.read_parquet('../data/jane-street/train.parquet').filter(pl.col('date_id') >= 85)\n",
    "\n",
    "# Display the first few rows\n",
    "train_data.head()\n"
   ]
  },
  {
   "cell_type": "code",
   "execution_count": 3,
   "id": "5db441f7-4462-4159-96c1-7fcd42fecbd2",
   "metadata": {
    "tags": []
   },
   "outputs": [],
   "source": [
    "# Define columns to exclude\n",
    "exclude_columns = ['date_id', 'time_id', 'symbol_id', 'weight', 'partition_id'] + \\\n",
    "                  [col for col in train_data.columns if col.startswith('responder_')]\n",
    "\n",
    "# Select feature columns\n",
    "feature_columns = [col for col in train_data.columns if col not in exclude_columns]\n"
   ]
  },
  {
   "cell_type": "code",
   "execution_count": null,
   "id": "fd567b7a-c445-446d-bf43-e0b6bb4ec981",
   "metadata": {
    "tags": []
   },
   "outputs": [],
   "source": [
    "# Generate lagged features for numerical feature columns\n",
    "for feature in feature_columns:\n",
    "    train_data = train_data.with_columns(\n",
    "        pl.col(feature).shift(1).over(\"symbol_id\").alias(f\"{feature}_lag_1\")\n",
    "    )\n"
   ]
  },
  {
   "cell_type": "code",
   "execution_count": null,
   "id": "5cc8455c-d1e9-4869-92d9-7d6782e1a065",
   "metadata": {},
   "outputs": [],
   "source": [
    "# Generate difference features\n",
    "for feature in feature_columns:\n",
    "    train_data = train_data.with_columns(\n",
    "        (pl.col(feature) - pl.col(f'{feature}_lag_1')).alias(f'{feature}_lag_diff_1')\n",
    "    )\n"
   ]
  },
  {
   "cell_type": "code",
   "execution_count": null,
   "id": "f4b4e602-b53b-4675-a958-f8212294f8f8",
   "metadata": {},
   "outputs": [],
   "source": [
    "# Generate ratio features\n",
    "for feature in feature_columns:\n",
    "    train_data = train_data.with_columns(\n",
    "        (pl.col(feature) / (pl.col(f'{feature}_lag_1') + 1e-9)).alias(f'{feature}_lag_ratio_1')\n",
    "    )\n"
   ]
  },
  {
   "cell_type": "code",
   "execution_count": null,
   "id": "b45bc870-024c-4809-b995-b13b8f386139",
   "metadata": {},
   "outputs": [],
   "source": [
    "# Fill NaN values generated by lagging\n",
    "train_data = train_data.fill_null(0)\n"
   ]
  },
  {
   "cell_type": "code",
   "execution_count": null,
   "id": "52d5203c-f09a-4f81-a47b-90d562d55626",
   "metadata": {},
   "outputs": [],
   "source": [
    "# Save the dataset for XGBoost (raw features + engineered features, no scaling)\n",
    "train_data.write_parquet('../data/XGBoost_Featured.parquet', compression='snappy')\n"
   ]
  },
  {
   "cell_type": "code",
   "execution_count": null,
   "id": "41e4afa8-0b04-4337-ab8f-1aeb36b78ecb",
   "metadata": {},
   "outputs": [],
   "source": [
    "from sklearn.preprocessing import MinMaxScaler\n",
    "\n",
    "# Extract feature columns as NumPy for scaling\n",
    "scaler = MinMaxScaler()\n",
    "scaled_features = scaler.fit_transform(train_data.select(feature_columns).to_numpy())\n",
    "\n",
    "# Replace scaled columns in the Polars DataFrame\n",
    "scaled_df = pl.DataFrame(scaled_features, schema=feature_columns)\n",
    "train_data = train_data.drop(feature_columns).hstack(scaled_df)\n",
    "\n",
    "# Save the scaled dataset for TFT\n",
    "train_data.write_parquet('../data/TFT_Featured_Scaled.parquet', compression='snappy')\n"
   ]
  }
 ],
 "metadata": {
  "environment": {
   "kernel": "conda-base-py",
   "name": "workbench-notebooks.m126",
   "type": "gcloud",
   "uri": "us-docker.pkg.dev/deeplearning-platform-release/gcr.io/workbench-notebooks:m126"
  },
  "kernelspec": {
   "display_name": "Python 3 (ipykernel)",
   "language": "python",
   "name": "conda-base-py"
  },
  "language_info": {
   "codemirror_mode": {
    "name": "ipython",
    "version": 3
   },
   "file_extension": ".py",
   "mimetype": "text/x-python",
   "name": "python",
   "nbconvert_exporter": "python",
   "pygments_lexer": "ipython3",
   "version": "3.10.15"
  }
 },
 "nbformat": 4,
 "nbformat_minor": 5
}
