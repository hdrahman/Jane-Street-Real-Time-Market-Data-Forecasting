{
 "cells": [
  {
   "cell_type": "code",
   "execution_count": null,
   "metadata": {},
   "outputs": [],
   "source": [
    "import pyarrow.parquet as pq\n",
    "import pandas as pd\n",
    "\n",
    "# Define the file path (update if moved)\n",
    "file_path = 'C:/Users/YourUsername/Documents/train.parquet'\n",
    "\n",
    "# Open the Parquet file using pyarrow\n",
    "parquet_file = pq.ParquetFile(file_path)\n",
    "\n",
    "# Calculate the median date_id once using only the relevant column\n",
    "date_ids = parquet_file.read(columns=['date_id']).to_pandas()\n",
    "median_date_id = date_ids['date_id'].median()\n",
    "del date_ids  # Free memory\n",
    "\n",
    "# Initialize an empty list to hold filtered chunks\n",
    "filtered_chunks = []\n",
    "\n",
    "# Iterate through each row group in the Parquet file\n",
    "for i in range(parquet_file.num_row_groups):\n",
    "    # Read one row group at a time as a pandas DataFrame\n",
    "    row_group_df = parquet_file.read_row_group(i).to_pandas()\n",
    "\n",
    "    # Filter the DataFrame and add it to the list if it matches the condition\n",
    "    filtered_chunk = row_group_df.loc[row_group_df['date_id'] <= median_date_id]\n",
    "    filtered_chunks.append(filtered_chunk)\n",
    "\n",
    "# Concatenate all filtered chunks into one DataFrame\n",
    "train_df = pd.concat(filtered_chunks, ignore_index=True)\n",
    "\n",
    "print(\"Filtered DataFrame:\")\n",
    "print(train_df.head())\n",
    "print(\"Filtered DataFrame shape:\", train_df.shape)\n"
   ]
  },
  {
   "cell_type": "code",
   "execution_count": null,
   "metadata": {},
   "outputs": [],
   "source": [
    "features_df = pd.read_csv('../Data/features.csv')\n",
    "responders_df = pd.read_csv('../Data/responders.csv')"
   ]
  },
  {
   "cell_type": "code",
   "execution_count": null,
   "metadata": {},
   "outputs": [],
   "source": [
    "print(train_df.head())"
   ]
  },
  {
   "cell_type": "code",
   "execution_count": null,
   "metadata": {},
   "outputs": [],
   "source": [
    "print(features_df.head())"
   ]
  },
  {
   "cell_type": "code",
   "execution_count": null,
   "metadata": {},
   "outputs": [],
   "source": [
    "train_df.info()"
   ]
  },
  {
   "cell_type": "code",
   "execution_count": null,
   "metadata": {},
   "outputs": [],
   "source": [
    "train_df['responder_6'].describe()"
   ]
  },
  {
   "cell_type": "code",
   "execution_count": null,
   "metadata": {},
   "outputs": [],
   "source": [
    "initial_period = train_df[train_df['date_id'] <= 85]\n",
    "variance_initial = initial_period.loc[:, 'feature_00':'feature_78'].var()\n",
    "#later_period = train_df[train_df['date_id'] > 85]"
   ]
  }
 ],
 "metadata": {
  "kernelspec": {
   "display_name": "venv",
   "language": "python",
   "name": "python3"
  },
  "language_info": {
   "codemirror_mode": {
    "name": "ipython",
    "version": 3
   },
   "file_extension": ".py",
   "mimetype": "text/x-python",
   "name": "python",
   "nbconvert_exporter": "python",
   "pygments_lexer": "ipython3",
   "version": "3.12.6"
  }
 },
 "nbformat": 4,
 "nbformat_minor": 2
}
