{
 "cells": [
  {
   "cell_type": "code",
   "execution_count": null,
   "id": "bdc257dd-ed3c-4465-8a3f-6e495162cc06",
   "metadata": {
    "tags": []
   },
   "outputs": [],
   "source": [
    "import pyarrow.dataset as ds\n",
    "\n",
    "# Load the Parquet directory as a dataset\n",
    "dataset = ds.dataset('../data/jane-street/lags.parquet', format=\"parquet\")\n",
    "\n",
    "# Convert to a Pandas DataFrame\n",
    "lags = dataset.to_table().to_pandas()\n",
    "\n",
    "# Inspect the data\n",
    "print(\"head: \",lags.head())\n",
    "print(\"lags: \", lags.info())\n"
   ]
  },
  {
   "cell_type": "code",
   "execution_count": 2,
   "id": "9a27300a-b67b-4acd-82c1-db1db5e95e28",
   "metadata": {},
   "outputs": [
    {
     "name": "stdout",
     "output_type": "stream",
     "text": [
      "Index(['date_id', 'time_id', 'symbol_id', 'responder_0_lag_1',\n",
      "       'responder_1_lag_1', 'responder_2_lag_1', 'responder_3_lag_1',\n",
      "       'responder_4_lag_1', 'responder_5_lag_1', 'responder_6_lag_1',\n",
      "       'responder_7_lag_1', 'responder_8_lag_1'],\n",
      "      dtype='object')\n",
      "date_id                int16\n",
      "time_id                int16\n",
      "symbol_id               int8\n",
      "responder_0_lag_1    float32\n",
      "responder_1_lag_1    float32\n",
      "responder_2_lag_1    float32\n",
      "responder_3_lag_1    float32\n",
      "responder_4_lag_1    float32\n",
      "responder_5_lag_1    float32\n",
      "responder_6_lag_1    float32\n",
      "responder_7_lag_1    float32\n",
      "responder_8_lag_1    float32\n",
      "dtype: object\n"
     ]
    }
   ],
   "source": [
    "print(lags.columns)\n",
    "print(lags.dtypes)\n"
   ]
  },
  {
   "cell_type": "code",
   "execution_count": 3,
   "id": "fb0e4fde-094e-4a44-8c6d-778856ccdf11",
   "metadata": {
    "tags": []
   },
   "outputs": [
    {
     "name": "stdout",
     "output_type": "stream",
     "text": [
      "date_id              0\n",
      "time_id              0\n",
      "symbol_id            0\n",
      "responder_0_lag_1    0\n",
      "responder_1_lag_1    0\n",
      "responder_2_lag_1    0\n",
      "responder_3_lag_1    0\n",
      "responder_4_lag_1    0\n",
      "responder_5_lag_1    0\n",
      "responder_6_lag_1    0\n",
      "responder_7_lag_1    0\n",
      "responder_8_lag_1    0\n",
      "dtype: int64\n"
     ]
    }
   ],
   "source": [
    "print(lags.isnull().sum())\n"
   ]
  },
  {
   "cell_type": "code",
   "execution_count": 4,
   "id": "3c731fa3-af76-4e99-8022-3147a5ca46a7",
   "metadata": {
    "tags": []
   },
   "outputs": [
    {
     "name": "stdout",
     "output_type": "stream",
     "text": [
      "0\n"
     ]
    }
   ],
   "source": [
    "print(lags.duplicated().sum())\n"
   ]
  },
  {
   "cell_type": "code",
   "execution_count": 5,
   "id": "b694e73f-0cb2-41a0-a3ca-c97ecf34a8f6",
   "metadata": {
    "tags": []
   },
   "outputs": [],
   "source": [
    "import pandas as pd\n",
    "train_data = pd.read_parquet('../data/XGBoost_data.parquet')\n",
    "\n",
    "train_data = train_data.merge(lags, on=['date_id', 'time_id', 'symbol_id'], how='left')\n"
   ]
  },
  {
   "cell_type": "code",
   "execution_count": 7,
   "id": "5ae100fe-2737-4e33-9e9f-2b5f670b4ffe",
   "metadata": {},
   "outputs": [],
   "source": [
    "train_data.to_parquet('../data/Lagged_Data.parquet', index=False)"
   ]
  },
  {
   "cell_type": "code",
   "execution_count": 8,
   "id": "e0849d2e-5f76-4521-87dc-b8d75382de67",
   "metadata": {
    "tags": []
   },
   "outputs": [
    {
     "name": "stdout",
     "output_type": "stream",
     "text": [
      "date_id                     0\n",
      "time_id                     0\n",
      "symbol_id                   0\n",
      "weight                      0\n",
      "feature_00                  0\n",
      "                       ...   \n",
      "responder_4_lag_1    38914961\n",
      "responder_5_lag_1    38914961\n",
      "responder_6_lag_1    38914961\n",
      "responder_7_lag_1    38914961\n",
      "responder_8_lag_1    38914961\n",
      "Length: 90, dtype: int64\n",
      "_merge\n",
      "left_only     38914961\n",
      "right_only           0\n",
      "both                 0\n",
      "Name: count, dtype: int64\n"
     ]
    }
   ],
   "source": [
    "print(train_data.isnull().sum())  # Count missing values in all columns\n",
    "train_data_with_indicator = train_data.merge(\n",
    "    lags, on=['date_id', 'time_id', 'symbol_id'], how='left', indicator=True\n",
    ")\n",
    "print(train_data_with_indicator['_merge'].value_counts())\n"
   ]
  },
  {
   "cell_type": "code",
   "execution_count": 10,
   "id": "7d980e2f-3c22-4e9c-9649-147b9ef7a338",
   "metadata": {
    "tags": []
   },
   "outputs": [
    {
     "name": "stdout",
     "output_type": "stream",
     "text": [
      "(38914961, 90)\n",
      "   date_id  time_id  symbol_id    weight  feature_00  feature_01  feature_04  \\\n",
      "0      528        0          1  3.886676    0.503752    1.338204    0.812773   \n",
      "1      528        0          2  1.396185   -0.058833    0.988444   -0.027737   \n",
      "2      528        0          3  0.664355   -0.282893    1.939934   -0.175234   \n",
      "3      528        0          5  1.960854    0.337874    1.533237   -0.114100   \n",
      "4      528        0          7  2.161128   -0.568770    1.764450    0.079021   \n",
      "\n",
      "   feature_05  feature_06  feature_07  ...  partition_id  responder_0_lag_1  \\\n",
      "0   -0.095654   -1.686406   -0.975024  ...             3                NaN   \n",
      "1   -0.110813   -1.686406   -1.412440  ...             3                NaN   \n",
      "2   -0.072281   -1.686406   -0.977644  ...             3                NaN   \n",
      "3   -0.104692   -1.686406   -1.526535  ...             3                NaN   \n",
      "4   -0.107042   -1.686406   -0.973510  ...             3                NaN   \n",
      "\n",
      "   responder_1_lag_1  responder_2_lag_1  responder_3_lag_1  responder_4_lag_1  \\\n",
      "0                NaN                NaN                NaN                NaN   \n",
      "1                NaN                NaN                NaN                NaN   \n",
      "2                NaN                NaN                NaN                NaN   \n",
      "3                NaN                NaN                NaN                NaN   \n",
      "4                NaN                NaN                NaN                NaN   \n",
      "\n",
      "   responder_5_lag_1  responder_6_lag_1  responder_7_lag_1  responder_8_lag_1  \n",
      "0                NaN                NaN                NaN                NaN  \n",
      "1                NaN                NaN                NaN                NaN  \n",
      "2                NaN                NaN                NaN                NaN  \n",
      "3                NaN                NaN                NaN                NaN  \n",
      "4                NaN                NaN                NaN                NaN  \n",
      "\n",
      "[5 rows x 90 columns]\n"
     ]
    }
   ],
   "source": [
    "print(train_data.shape)  # Rows and columns after the merge\n",
    "\n",
    "print(train_data.head())\n"
   ]
  },
  {
   "cell_type": "code",
   "execution_count": 2,
   "id": "ca8a586a-508d-4ff4-aeb1-46daf0895dc6",
   "metadata": {},
   "outputs": [],
   "source": [
    "import pyarrow.dataset as ds\n",
    "import pandas as pd\n",
    "\n",
    "# Load the Parquet dataset\n",
    "dataset = ds.dataset('../data/jane-street/lags.parquet', format=\"parquet\")\n",
    "\n",
    "# Convert to a Pandas DataFrame\n",
    "lags = dataset.to_table().to_pandas()\n",
    "\n",
    "# Convert `date_id` to a plain integer type (e.g., int16 or int32)\n",
    "lags['date_id'] = lags['date_id'].astype('int16')\n",
    "\n",
    "# Save the fixed version\n",
    "lags.to_parquet('../data/jane-street/lags_fixed.parquet', index=False)\n"
   ]
  },
  {
   "cell_type": "code",
   "execution_count": 3,
   "id": "0ca8cbff-f6fa-4d85-ac08-0a52025c1a2e",
   "metadata": {},
   "outputs": [
    {
     "name": "stdout",
     "output_type": "stream",
     "text": [
      "date_id                int16\n",
      "time_id                int16\n",
      "symbol_id               int8\n",
      "responder_0_lag_1    float32\n",
      "responder_1_lag_1    float32\n",
      "responder_2_lag_1    float32\n",
      "responder_3_lag_1    float32\n",
      "responder_4_lag_1    float32\n",
      "responder_5_lag_1    float32\n",
      "responder_6_lag_1    float32\n",
      "responder_7_lag_1    float32\n",
      "responder_8_lag_1    float32\n",
      "dtype: object\n"
     ]
    }
   ],
   "source": [
    "fixed_lags = pd.read_parquet('../data/jane-street/lags_fixed.parquet')\n",
    "print(fixed_lags.dtypes)\n"
   ]
  },
  {
   "cell_type": "code",
   "execution_count": 16,
   "id": "6355bf4f-f991-45e3-a25a-b786140f98f3",
   "metadata": {
    "tags": []
   },
   "outputs": [],
   "source": [
    "train_data = pd.read_parquet('../data/XGBoost_data.parquet')\n",
    "lags = pd.read_parquet('../data/jane-street/lags_fixed.parquet')\n",
    "\n",
    "#train_data = train_data.merge(lags, on=['date_id', 'time_id', 'symbol_id'], how='left')\n"
   ]
  },
  {
   "cell_type": "code",
   "execution_count": null,
   "id": "8eea7aec-d8d7-4f76-84ea-e5deb3f904a8",
   "metadata": {
    "tags": []
   },
   "outputs": [],
   "source": [
    "print(\"shape: \", train_data.shape)  # Rows and columns after the merge\n",
    "\n",
    "print(\"head: \", train_data.head())\n"
   ]
  },
  {
   "cell_type": "code",
   "execution_count": 8,
   "id": "5112295f-ae4f-4656-8f1f-76989a4caba8",
   "metadata": {
    "tags": []
   },
   "outputs": [
    {
     "name": "stdout",
     "output_type": "stream",
     "text": [
      "Index(['date_id', 'time_id', 'symbol_id', 'weight', 'feature_00', 'feature_01',\n",
      "       'feature_04', 'feature_05', 'feature_06', 'feature_07', 'feature_08',\n",
      "       'feature_09', 'feature_10', 'feature_11', 'feature_12', 'feature_13',\n",
      "       'feature_14', 'feature_15', 'feature_16', 'feature_17', 'feature_18',\n",
      "       'feature_19', 'feature_20', 'feature_21', 'feature_22', 'feature_23',\n",
      "       'feature_24', 'feature_25', 'feature_26', 'feature_27', 'feature_28',\n",
      "       'feature_29', 'feature_30', 'feature_32', 'feature_33', 'feature_36',\n",
      "       'feature_37', 'feature_38', 'feature_39', 'feature_40', 'feature_41',\n",
      "       'feature_42', 'feature_43', 'feature_44', 'feature_45', 'feature_46',\n",
      "       'feature_47', 'feature_48', 'feature_49', 'feature_50', 'feature_51',\n",
      "       'feature_52', 'feature_53', 'feature_54', 'feature_55', 'feature_56',\n",
      "       'feature_57', 'feature_58', 'feature_59', 'feature_61', 'feature_62',\n",
      "       'feature_63', 'feature_64', 'feature_65', 'feature_66', 'feature_68',\n",
      "       'feature_71', 'feature_72', 'feature_73', 'feature_75', 'feature_77',\n",
      "       'responder_0', 'responder_1', 'responder_2', 'responder_3',\n",
      "       'responder_4', 'responder_5', 'responder_6', 'responder_7',\n",
      "       'responder_8', 'partition_id'],\n",
      "      dtype='object')\n",
      "Index(['date_id', 'time_id', 'symbol_id', 'responder_0_lag_1',\n",
      "       'responder_1_lag_1', 'responder_2_lag_1', 'responder_3_lag_1',\n",
      "       'responder_4_lag_1', 'responder_5_lag_1', 'responder_6_lag_1',\n",
      "       'responder_7_lag_1', 'responder_8_lag_1'],\n",
      "      dtype='object')\n",
      "date_id      int16\n",
      "time_id      int16\n",
      "symbol_id     int8\n",
      "dtype: object\n",
      "date_id      int16\n",
      "time_id      int16\n",
      "symbol_id     int8\n",
      "dtype: object\n",
      "         date_id  time_id  symbol_id\n",
      "8212377      528        0          1\n",
      "8212378      528        0          2\n",
      "8212379      528        0          3\n",
      "8212380      528        0          5\n",
      "8212381      528        0          7\n",
      "   date_id  time_id  symbol_id\n",
      "0        0        0          0\n",
      "1        0        0          1\n",
      "2        0        0          2\n",
      "3        0        0          3\n",
      "4        0        0          4\n"
     ]
    }
   ],
   "source": [
    "# Check if the merge keys exist in both datasets\n",
    "print(train_data.columns)\n",
    "print(lags.columns)\n",
    "\n",
    "# Check the data types of the keys\n",
    "print(train_data[['date_id', 'time_id', 'symbol_id']].dtypes)\n",
    "print(lags[['date_id', 'time_id', 'symbol_id']].dtypes)\n",
    "\n",
    "# Check for unique values in the keys\n",
    "print(train_data[['date_id', 'time_id', 'symbol_id']].drop_duplicates().head())\n",
    "print(lags[['date_id', 'time_id', 'symbol_id']].drop_duplicates().head())\n"
   ]
  },
  {
   "cell_type": "code",
   "execution_count": 11,
   "id": "358a1f9a-fe5d-41c3-b039-ac71964d3eef",
   "metadata": {
    "tags": []
   },
   "outputs": [],
   "source": [
    "# Standardize data types explicitly\n",
    "train_data['date_id'] = train_data['date_id'].astype('int16')\n",
    "train_data['time_id'] = train_data['time_id'].astype('int16')\n",
    "train_data['symbol_id'] = train_data['symbol_id'].astype('int8')\n",
    "\n",
    "lags['date_id'] = lags['date_id'].astype('int16')\n",
    "lags['time_id'] = lags['time_id'].astype('int16')\n",
    "lags['symbol_id'] = lags['symbol_id'].astype('int8')\n"
   ]
  },
  {
   "cell_type": "code",
   "execution_count": 12,
   "id": "bb950da3-d374-425c-8edd-71a13b649d73",
   "metadata": {
    "tags": []
   },
   "outputs": [
    {
     "name": "stdout",
     "output_type": "stream",
     "text": [
      "Number of matching keys: 0\n"
     ]
    }
   ],
   "source": [
    "# Find common keys between train_data and lags\n",
    "common_keys = pd.merge(\n",
    "    train_data[['date_id', 'time_id', 'symbol_id']],\n",
    "    lags[['date_id', 'time_id', 'symbol_id']],\n",
    "    on=['date_id', 'time_id', 'symbol_id'],\n",
    "    how='inner'\n",
    ")\n",
    "print(f\"Number of matching keys: {len(common_keys)}\")\n"
   ]
  },
  {
   "cell_type": "code",
   "execution_count": 10,
   "id": "f12dd634-e7c9-4322-a9f7-facabd4238a6",
   "metadata": {
    "tags": []
   },
   "outputs": [
    {
     "name": "stdout",
     "output_type": "stream",
     "text": [
      "_merge\n",
      "left_only     38914961\n",
      "right_only           0\n",
      "both                 0\n",
      "Name: count, dtype: int64\n"
     ]
    }
   ],
   "source": [
    "missing_keys = train_data.merge(\n",
    "    lags[['date_id', 'time_id', 'symbol_id']],\n",
    "    on=['date_id', 'time_id', 'symbol_id'],\n",
    "    how='left',\n",
    "    indicator=True\n",
    ")\n",
    "print(missing_keys['_merge'].value_counts())\n"
   ]
  },
  {
   "cell_type": "code",
   "execution_count": 13,
   "id": "ff54174d-c7e0-4e90-9664-4d5e3c4d6827",
   "metadata": {
    "tags": []
   },
   "outputs": [
    {
     "name": "stdout",
     "output_type": "stream",
     "text": [
      "   date_id  time_id  symbol_id\n",
      "0      528        0          1\n",
      "1      528        0          2\n",
      "2      528        0          3\n",
      "3      528        0          5\n",
      "4      528        0          7\n"
     ]
    }
   ],
   "source": [
    "# Look for keys in train_data that are missing from lags\n",
    "missing_keys = train_data.merge(\n",
    "    lags[['date_id', 'time_id', 'symbol_id']],\n",
    "    on=['date_id', 'time_id', 'symbol_id'],\n",
    "    how='left',\n",
    "    indicator=True\n",
    ")\n",
    "print(missing_keys[missing_keys['_merge'] == 'left_only'][['date_id', 'time_id', 'symbol_id']].head())\n"
   ]
  },
  {
   "cell_type": "code",
   "execution_count": 14,
   "id": "334c3e44-7000-4981-a401-8abc3ff45e93",
   "metadata": {
    "tags": []
   },
   "outputs": [
    {
     "name": "stdout",
     "output_type": "stream",
     "text": [
      "Empty DataFrame\n",
      "Columns: [date_id, time_id, symbol_id, responder_0_lag_1, responder_1_lag_1, responder_2_lag_1, responder_3_lag_1, responder_4_lag_1, responder_5_lag_1, responder_6_lag_1, responder_7_lag_1, responder_8_lag_1]\n",
      "Index: []\n"
     ]
    }
   ],
   "source": [
    "# Extract the first missing key from train_data\n",
    "missing_key = missing_keys[missing_keys['_merge'] == 'left_only'][['date_id', 'time_id', 'symbol_id']].iloc[0]\n",
    "\n",
    "# Check if this key exists in lags\n",
    "print(lags[\n",
    "    (lags['date_id'] == missing_key['date_id']) &\n",
    "    (lags['time_id'] == missing_key['time_id']) &\n",
    "    (lags['symbol_id'] == missing_key['symbol_id'])\n",
    "])\n"
   ]
  },
  {
   "cell_type": "code",
   "execution_count": 15,
   "id": "705ba19d-78d2-4d48-9772-31536bfd0ef4",
   "metadata": {
    "tags": []
   },
   "outputs": [
    {
     "name": "stdout",
     "output_type": "stream",
     "text": [
      "   date_id  time_id  symbol_id    weight  feature_00  feature_01  feature_04  \\\n",
      "0      528        0          1  3.886676    0.503752    1.338204    0.812773   \n",
      "1      528        0          2  1.396185   -0.058833    0.988444   -0.027737   \n",
      "2      528        0          3  0.664355   -0.282893    1.939934   -0.175234   \n",
      "3      528        0          5  1.960854    0.337874    1.533237   -0.114100   \n",
      "4      528        0          7  2.161128   -0.568770    1.764450    0.079021   \n",
      "\n",
      "   feature_05  feature_06  feature_07  ...  partition_id  responder_0_lag_1  \\\n",
      "0   -0.095654   -1.686406   -0.975024  ...             3                NaN   \n",
      "1   -0.110813   -1.686406   -1.412440  ...             3                NaN   \n",
      "2   -0.072281   -1.686406   -0.977644  ...             3                NaN   \n",
      "3   -0.104692   -1.686406   -1.526535  ...             3                NaN   \n",
      "4   -0.107042   -1.686406   -0.973510  ...             3                NaN   \n",
      "\n",
      "   responder_1_lag_1  responder_2_lag_1  responder_3_lag_1  responder_4_lag_1  \\\n",
      "0                NaN                NaN                NaN                NaN   \n",
      "1                NaN                NaN                NaN                NaN   \n",
      "2                NaN                NaN                NaN                NaN   \n",
      "3                NaN                NaN                NaN                NaN   \n",
      "4                NaN                NaN                NaN                NaN   \n",
      "\n",
      "   responder_5_lag_1  responder_6_lag_1  responder_7_lag_1  responder_8_lag_1  \n",
      "0                NaN                NaN                NaN                NaN  \n",
      "1                NaN                NaN                NaN                NaN  \n",
      "2                NaN                NaN                NaN                NaN  \n",
      "3                NaN                NaN                NaN                NaN  \n",
      "4                NaN                NaN                NaN                NaN  \n",
      "\n",
      "[5 rows x 90 columns]\n"
     ]
    }
   ],
   "source": [
    "# Filter lags to the date_id range in train_data\n",
    "lags = lags[lags['date_id'].isin(train_data['date_id'].unique())]\n",
    "\n",
    "# Re-run the merge after filtering\n",
    "train_data = train_data.merge(lags, on=['date_id', 'time_id', 'symbol_id'], how='left')\n",
    "print(train_data.head())\n"
   ]
  },
  {
   "cell_type": "code",
   "execution_count": 17,
   "id": "cffe76a9-5026-4da3-8261-fddff949ee06",
   "metadata": {
    "tags": []
   },
   "outputs": [
    {
     "name": "stdout",
     "output_type": "stream",
     "text": [
      "train_data date range: 528 to 1698\n",
      "lags date range: 0 to 0\n"
     ]
    }
   ],
   "source": [
    "print(f\"train_data date range: {train_data['date_id'].min()} to {train_data['date_id'].max()}\")\n",
    "print(f\"lags date range: {lags['date_id'].min()} to {lags['date_id'].max()}\")\n"
   ]
  },
  {
   "cell_type": "code",
   "execution_count": 18,
   "id": "0c530a90-d66a-4e10-9fc1-fcd23e514401",
   "metadata": {
    "tags": []
   },
   "outputs": [
    {
     "data": {
      "text/html": [
       "<div>\n",
       "<style scoped>\n",
       "    .dataframe tbody tr th:only-of-type {\n",
       "        vertical-align: middle;\n",
       "    }\n",
       "\n",
       "    .dataframe tbody tr th {\n",
       "        vertical-align: top;\n",
       "    }\n",
       "\n",
       "    .dataframe thead th {\n",
       "        text-align: right;\n",
       "    }\n",
       "</style>\n",
       "<table border=\"1\" class=\"dataframe\">\n",
       "  <thead>\n",
       "    <tr style=\"text-align: right;\">\n",
       "      <th></th>\n",
       "      <th>date_id</th>\n",
       "      <th>time_id</th>\n",
       "      <th>symbol_id</th>\n",
       "      <th>responder_0_lag_1</th>\n",
       "      <th>responder_1_lag_1</th>\n",
       "      <th>responder_2_lag_1</th>\n",
       "      <th>responder_3_lag_1</th>\n",
       "      <th>responder_4_lag_1</th>\n",
       "      <th>responder_5_lag_1</th>\n",
       "      <th>responder_6_lag_1</th>\n",
       "      <th>responder_7_lag_1</th>\n",
       "      <th>responder_8_lag_1</th>\n",
       "    </tr>\n",
       "  </thead>\n",
       "  <tbody>\n",
       "    <tr>\n",
       "      <th>0</th>\n",
       "      <td>0</td>\n",
       "      <td>0</td>\n",
       "      <td>0</td>\n",
       "      <td>-0.442215</td>\n",
       "      <td>-0.322407</td>\n",
       "      <td>0.143594</td>\n",
       "      <td>-0.926890</td>\n",
       "      <td>-0.782236</td>\n",
       "      <td>-0.036595</td>\n",
       "      <td>-1.305746</td>\n",
       "      <td>-0.795677</td>\n",
       "      <td>-0.143724</td>\n",
       "    </tr>\n",
       "    <tr>\n",
       "      <th>1</th>\n",
       "      <td>0</td>\n",
       "      <td>0</td>\n",
       "      <td>1</td>\n",
       "      <td>-0.651829</td>\n",
       "      <td>-1.707840</td>\n",
       "      <td>-0.893942</td>\n",
       "      <td>-1.065488</td>\n",
       "      <td>-1.871338</td>\n",
       "      <td>-0.615652</td>\n",
       "      <td>-1.162801</td>\n",
       "      <td>-1.205924</td>\n",
       "      <td>-1.245934</td>\n",
       "    </tr>\n",
       "    <tr>\n",
       "      <th>2</th>\n",
       "      <td>0</td>\n",
       "      <td>0</td>\n",
       "      <td>2</td>\n",
       "      <td>-0.656373</td>\n",
       "      <td>-0.264575</td>\n",
       "      <td>-0.892879</td>\n",
       "      <td>-1.511886</td>\n",
       "      <td>-1.033480</td>\n",
       "      <td>-0.378265</td>\n",
       "      <td>-1.574290</td>\n",
       "      <td>-1.863071</td>\n",
       "      <td>-0.027343</td>\n",
       "    </tr>\n",
       "    <tr>\n",
       "      <th>3</th>\n",
       "      <td>0</td>\n",
       "      <td>0</td>\n",
       "      <td>3</td>\n",
       "      <td>-0.188186</td>\n",
       "      <td>-0.190970</td>\n",
       "      <td>-0.701490</td>\n",
       "      <td>0.098453</td>\n",
       "      <td>-1.015506</td>\n",
       "      <td>-0.054984</td>\n",
       "      <td>0.329152</td>\n",
       "      <td>-0.965471</td>\n",
       "      <td>0.576635</td>\n",
       "    </tr>\n",
       "    <tr>\n",
       "      <th>4</th>\n",
       "      <td>0</td>\n",
       "      <td>0</td>\n",
       "      <td>4</td>\n",
       "      <td>-0.257462</td>\n",
       "      <td>-0.471325</td>\n",
       "      <td>-0.297420</td>\n",
       "      <td>0.074018</td>\n",
       "      <td>-0.324194</td>\n",
       "      <td>-0.597093</td>\n",
       "      <td>0.219856</td>\n",
       "      <td>-0.276356</td>\n",
       "      <td>-0.904790</td>\n",
       "    </tr>\n",
       "  </tbody>\n",
       "</table>\n",
       "</div>"
      ],
      "text/plain": [
       "   date_id  time_id  symbol_id  responder_0_lag_1  responder_1_lag_1  \\\n",
       "0        0        0          0          -0.442215          -0.322407   \n",
       "1        0        0          1          -0.651829          -1.707840   \n",
       "2        0        0          2          -0.656373          -0.264575   \n",
       "3        0        0          3          -0.188186          -0.190970   \n",
       "4        0        0          4          -0.257462          -0.471325   \n",
       "\n",
       "   responder_2_lag_1  responder_3_lag_1  responder_4_lag_1  responder_5_lag_1  \\\n",
       "0           0.143594          -0.926890          -0.782236          -0.036595   \n",
       "1          -0.893942          -1.065488          -1.871338          -0.615652   \n",
       "2          -0.892879          -1.511886          -1.033480          -0.378265   \n",
       "3          -0.701490           0.098453          -1.015506          -0.054984   \n",
       "4          -0.297420           0.074018          -0.324194          -0.597093   \n",
       "\n",
       "   responder_6_lag_1  responder_7_lag_1  responder_8_lag_1  \n",
       "0          -1.305746          -0.795677          -0.143724  \n",
       "1          -1.162801          -1.205924          -1.245934  \n",
       "2          -1.574290          -1.863071          -0.027343  \n",
       "3           0.329152          -0.965471           0.576635  \n",
       "4           0.219856          -0.276356          -0.904790  "
      ]
     },
     "execution_count": 18,
     "metadata": {},
     "output_type": "execute_result"
    }
   ],
   "source": [
    "lags.head()"
   ]
  },
  {
   "cell_type": "code",
   "execution_count": null,
   "id": "801c3ce6-1fda-4782-a510-662e8efb5e8f",
   "metadata": {},
   "outputs": [],
   "source": []
  }
 ],
 "metadata": {
  "environment": {
   "kernel": "conda-base-py",
   "name": "workbench-notebooks.m126",
   "type": "gcloud",
   "uri": "us-docker.pkg.dev/deeplearning-platform-release/gcr.io/workbench-notebooks:m126"
  },
  "kernelspec": {
   "display_name": "Python 3 (ipykernel)",
   "language": "python",
   "name": "conda-base-py"
  },
  "language_info": {
   "codemirror_mode": {
    "name": "ipython",
    "version": 3
   },
   "file_extension": ".py",
   "mimetype": "text/x-python",
   "name": "python",
   "nbconvert_exporter": "python",
   "pygments_lexer": "ipython3",
   "version": "3.10.15"
  }
 },
 "nbformat": 4,
 "nbformat_minor": 5
}
