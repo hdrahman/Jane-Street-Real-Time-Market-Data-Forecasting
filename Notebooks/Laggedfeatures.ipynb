{
 "cells": [
  {
   "cell_type": "code",
   "execution_count": 1,
   "metadata": {},
   "outputs": [
    {
     "ename": "ModuleNotFoundError",
     "evalue": "No module named 'polars'",
     "output_type": "error",
     "traceback": [
      "\u001b[1;31m---------------------------------------------------------------------------\u001b[0m",
      "\u001b[1;31mModuleNotFoundError\u001b[0m                       Traceback (most recent call last)",
      "Cell \u001b[1;32mIn[1], line 1\u001b[0m\n\u001b[1;32m----> 1\u001b[0m \u001b[38;5;28;01mimport\u001b[39;00m \u001b[38;5;21;01mpolars\u001b[39;00m \u001b[38;5;28;01mas\u001b[39;00m \u001b[38;5;21;01mpl\u001b[39;00m\n\u001b[0;32m      3\u001b[0m \u001b[38;5;66;03m# Load cleaned data\u001b[39;00m\n\u001b[0;32m      4\u001b[0m cleaned_data \u001b[38;5;241m=\u001b[39m pl\u001b[38;5;241m.\u001b[39mread_parquet(\u001b[38;5;124m'\u001b[39m\u001b[38;5;124m/path/to/cleaned_train.parquet\u001b[39m\u001b[38;5;124m'\u001b[39m)\n",
      "\u001b[1;31mModuleNotFoundError\u001b[0m: No module named 'polars'"
     ]
    }
   ],
   "source": [
    "import polars as pl\n",
    "\n",
    "# Load cleaned data\n",
    "cleaned_data = pl.read_parquet('/path/to/cleaned_train.parquet')\n",
    "\n",
    "# Load lagged data\n",
    "lagged_data = pl.read_parquet('/path/to/lags.parquet')\n",
    "\n",
    "# Merge based on the 'date_id' column\n",
    "combined_data = cleaned_data.join(lagged_data, on='date_id', how='left')\n"
   ]
  },
  {
   "cell_type": "code",
   "execution_count": null,
   "metadata": {},
   "outputs": [],
   "source": [
    "lagged_data = lagged_data.fill_null(strategy=\"mean\")  # or \"zero\", \"forward\", etc.\n",
    "lagged_data = lagged_data.with_columns([\n",
    "    pl.col(col).interpolate() for col in lagged_data.columns\n",
    "])\n",
    "# Drop constant columns\n",
    "lagged_data = lagged_data.select([\n",
    "    col for col in lagged_data.columns if lagged_data[col].unique().shape[0] > 1\n",
    "])\n"
   ]
  },
  {
   "cell_type": "code",
   "execution_count": null,
   "metadata": {},
   "outputs": [],
   "source": []
  },
  {
   "cell_type": "code",
   "execution_count": null,
   "metadata": {},
   "outputs": [],
   "source": []
  }
 ],
 "metadata": {
  "kernelspec": {
   "display_name": "Python 3",
   "language": "python",
   "name": "python3"
  },
  "language_info": {
   "codemirror_mode": {
    "name": "ipython",
    "version": 3
   },
   "file_extension": ".py",
   "mimetype": "text/x-python",
   "name": "python",
   "nbconvert_exporter": "python",
   "pygments_lexer": "ipython3",
   "version": "3.13.0"
  }
 },
 "nbformat": 4,
 "nbformat_minor": 2
}
