{
 "cells": [
  {
   "cell_type": "markdown",
   "metadata": {},
   "source": [
    "This File contains code that Aided in the data cleaning process but was removed from the main notebook to clean it up. These cells contain code that either did not reveal/do anything(Code to find and drop NaN values or constant columns, but found none) or code that was temporarily used to print/visualize data but has no need to stay permanently.\n",
    "\n",
    "Note: This is not all code that was removed, but is instead code deemed meaningful to my development process"
   ]
  },
  {
   "cell_type": "code",
   "execution_count": null,
   "metadata": {
    "vscode": {
     "languageId": "plaintext"
    }
   },
   "outputs": [],
   "source": [
    "''' Commented out because they do nothing(no cols with NaN values)\n",
    "# Check for columns with NaN values\n",
    "nan_counts = train_data.isnull().sum()\n",
    "\n",
    "# Filter columns with NaN values\n",
    "columns_with_nan = nan_counts[nan_counts > 0]\n",
    "print(\"Columns with NaN values:\\n\", columns_with_nan)\n",
    "'''"
   ]
  },
  {
   "cell_type": "code",
   "execution_count": null,
   "metadata": {
    "vscode": {
     "languageId": "plaintext"
    }
   },
   "outputs": [],
   "source": [
    "''' Commented out because they do nothing(no const cols)\n",
    "# Identify constant columns (zero variance)\n",
    "constant_columns = [col for col in numerical_columns if train_data[col].nunique() == 1]\n",
    "print(\"Constant columns:\", constant_columns)\n",
    "\n",
    "# Drop constant columns\n",
    "train_data = train_data.drop(columns=constant_columns)\n",
    "numerical_columns = [col for col in numerical_columns if col not in constant_columns]\n",
    "'''"
   ]
  },
  {
   "cell_type": "code",
   "execution_count": null,
   "metadata": {
    "vscode": {
     "languageId": "plaintext"
    }
   },
   "outputs": [],
   "source": [
    "'''no longer needed\n",
    "import matplotlib.pyplot as plt\n",
    "import seaborn as sns\n",
    "from sklearn.linear_model import LinearRegression\n",
    "import numpy as np\n",
    "\n",
    "# Iterate through each highly correlated pair\n",
    "for col1, col2 in correlated_pairs:\n",
    "    print(f\"Analyzing pair: {col1} and {col2}\")\n",
    "    \n",
    "    # Extract data for the pair\n",
    "    X = train_data[col1].values.reshape(-1, 1)\n",
    "    y = train_data[col2].values\n",
    "    \n",
    "    # Fit a linear regression model\n",
    "    model = LinearRegression().fit(X, y)\n",
    "    r2 = model.score(X, y)\n",
    "    print(f\"R² between {col1} and {col2}: {r2:.4f}\")\n",
    "    \n",
    "    # Create scatterplot for the pair\n",
    "    plt.figure(figsize=(6, 4))\n",
    "    plt.scatter(train_data[col1], train_data[col2], alpha=0.5)\n",
    "    plt.title(f\"Scatterplot: {col1} vs {col2} (R² = {r2:.4f})\")\n",
    "    plt.xlabel(col1)\n",
    "    plt.ylabel(col2)\n",
    "    plt.show()\n",
    "    \n",
    "    # Residuals analysis\n",
    "    residuals = y - model.predict(X)\n",
    "    plt.figure(figsize=(6, 4))\n",
    "    sns.histplot(residuals, kde=True, color='blue')\n",
    "    plt.title(f\"Residuals of Linear Fit: {col1} vs {col2}\")\n",
    "    plt.xlabel(\"Residuals\")\n",
    "    plt.show()\n",
    "\n",
    "    # Print residual statistics\n",
    "    print(f\"Residuals for {col1} and {col2}:\")\n",
    "    print(f\"Mean: {np.mean(residuals):.4f}, Std Dev: {np.std(residuals):.4f}\")\n",
    "    print(\"-\" * 50)\n",
    "'''"
   ]
  }
 ],
 "metadata": {
  "language_info": {
   "name": "python"
  }
 },
 "nbformat": 4,
 "nbformat_minor": 2
}
