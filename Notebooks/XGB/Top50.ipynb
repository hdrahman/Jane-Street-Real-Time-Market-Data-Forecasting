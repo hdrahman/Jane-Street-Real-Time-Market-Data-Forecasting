{
 "cells": [
  {
   "cell_type": "code",
   "execution_count": 1,
   "id": "ae1240a5-eb6b-476c-b3df-fc9eec7010fb",
   "metadata": {
    "tags": []
   },
   "outputs": [
    {
     "name": "stdout",
     "output_type": "stream",
     "text": [
      "Loading dataset...\n",
      "Sampling 20% of the dataset for feature importance calculation...\n",
      "Splitting sampled dataset...\n",
      "Training temporary model on sampled data for feature importance...\n",
      "Extracting top 30 features...\n",
      "Initial Top 30 Features: ['responder_0', 'responder_3', 'responder_3_lag_1', 'responder_7', 'responder_0_lag_1', 'responder_8', 'feature_24_lag_1', 'responder_3_lag_ratio_1', 'responder_4', '__index_level_0___lag_ratio_1', 'feature_24', 'responder_3_lag_diff_1', 'feature_61', 'responder_5', 'feature_59', 'feature_61_lag_1', 'responder_7_lag_1', 'responder_0_lag_diff_1', 'feature_47_lag_1', 'responder_4_lag_1', 'feature_36', 'feature_57', 'responder_8_lag_diff_1', 'responder_0_lag_ratio_1', 'feature_62', 'feature_36_lag_1', 'feature_39', 'feature_47', 'feature_50_lag_1', 'responder_5_lag_1']\n",
      "Calculating correlation matrix...\n",
      "Highly Correlated Features to Drop: ['responder_4', 'feature_24', 'feature_61_lag_1', 'responder_7_lag_1', 'responder_4_lag_1', 'feature_47']\n",
      "Filtered Features (after removing high correlations): ['responder_0', 'responder_3', 'responder_3_lag_1', 'responder_7', 'responder_0_lag_1', 'responder_8', 'feature_24_lag_1', 'responder_3_lag_ratio_1', '__index_level_0___lag_ratio_1', 'responder_3_lag_diff_1', 'feature_61', 'responder_5', 'feature_59', 'responder_0_lag_diff_1', 'feature_47_lag_1', 'feature_36', 'feature_57', 'responder_8_lag_diff_1', 'responder_0_lag_ratio_1', 'feature_62', 'feature_36_lag_1', 'feature_39', 'feature_50_lag_1', 'responder_5_lag_1']\n",
      "Re-ranking features after removing correlated ones...\n",
      "Final Top 30 Features: ['responder_0', 'responder_3', 'responder_3_lag_1', 'responder_7', 'responder_0_lag_1', 'responder_8', 'feature_24_lag_1', 'feature_61', 'responder_3_lag_ratio_1', '__index_level_0___lag_ratio_1', 'responder_5', 'feature_47_lag_1', 'feature_36', 'feature_57', 'feature_62', 'feature_59', 'responder_0_lag_diff_1', 'responder_3_lag_diff_1', 'feature_39', 'responder_0_lag_ratio_1', 'responder_8_lag_diff_1', 'feature_36_lag_1', 'responder_5_lag_1', 'feature_50_lag_1']\n",
      "Filtering the entire dataset...\n",
      "Saving filtered dataset with final top 30 features...\n",
      "Filtered dataset saved!\n"
     ]
    }
   ],
   "source": [
    "import polars as pl\n",
    "import xgboost as xgb\n",
    "import numpy as np\n",
    "\n",
    "# Weighted R² evaluation metric\n",
    "def weighted_r2_score(y_true, y_pred, weights):\n",
    "    numerator = np.sum(weights * (y_true - y_pred) ** 2)\n",
    "    denominator = np.sum(weights * y_true ** 2)\n",
    "    r2 = 1 - (numerator / denominator)\n",
    "    return r2\n",
    "\n",
    "# Load dataset\n",
    "print(\"Loading dataset...\")\n",
    "data = pl.read_parquet(\"/home/jupyter/data/XGFeatures_partitioned/\")\n",
    "\n",
    "# Sample 20% of the dataset for feature importance calculation\n",
    "print(\"Sampling 20% of the dataset for feature importance calculation...\")\n",
    "sample_fraction = 0.2\n",
    "sampled_data = data.sample(fraction=sample_fraction, seed=42)\n",
    "\n",
    "# Split sampled data into training and test sets\n",
    "print(\"Splitting sampled dataset...\")\n",
    "split_date = sampled_data[\"date_id\"].quantile(0.8)  # Returns a float directly\n",
    "train_sample = sampled_data.filter(pl.col(\"date_id\") < split_date)\n",
    "test_sample = sampled_data.filter(pl.col(\"date_id\") >= split_date)\n",
    "\n",
    "# Separate features and labels in the sampled dataset\n",
    "X_train_sample = train_sample.select(pl.exclude([\"responder_6\", \"date_id\", \"time_id\", \"weight\"]))\n",
    "y_train_sample = train_sample[\"responder_6\"]\n",
    "train_weights_sample = train_sample[\"weight\"]\n",
    "\n",
    "# Train a temporary model for feature importance on the sampled data\n",
    "print(\"Training temporary model on sampled data for feature importance...\")\n",
    "dtrain_temp = xgb.DMatrix(X_train_sample.to_numpy(), label=y_train_sample.to_numpy(), weight=train_weights_sample.to_numpy())\n",
    "params_temp = {\n",
    "    \"objective\": \"reg:squarederror\",\n",
    "    \"eval_metric\": \"rmse\",\n",
    "    \"learning_rate\": 0.1,\n",
    "    \"max_depth\": 4,\n",
    "    \"tree_method\": \"hist\",\n",
    "    \"seed\": 42,\n",
    "}\n",
    "temp_model = xgb.train(params=params_temp, dtrain=dtrain_temp, num_boost_round=50)\n",
    "\n",
    "# Extract top 50% features\n",
    "print(\"Extracting top 50% features...\")\n",
    "feature_importance = temp_model.get_score(importance_type=\"weight\")\n",
    "sorted_features = sorted(feature_importance.items(), key=lambda x: x[1], reverse=True)\n",
    "\n",
    "# Calculate the number of top features to retain (50%)\n",
    "num_features_to_keep = len(sorted_features) // 2\n",
    "top_features = [X_train_sample.columns[int(f[1:])] for f, _ in sorted_features[:num_features_to_keep]]\n",
    "print(f\"Top 50% Features: {top_features}\")\n",
    "\n",
    "# Filter the entire dataset based on top 50% features\n",
    "print(\"Filtering the entire dataset...\")\n",
    "filtered_data = data.select(top_features + [\"responder_6\", \"weight\", \"date_id\", \"time_id\"])\n",
    "\n",
    "# Save the filtered dataset\n",
    "print(\"Saving filtered dataset with top 50% features...\")\n",
    "filtered_data.write_parquet(\"/home/jupyter/data/final_filtered_top_half_data.parquet\")\n",
    "print(\"Filtered dataset saved!\")\n"
   ]
  },
  {
   "cell_type": "code",
   "execution_count": null,
   "id": "c8f8fd1c-5419-4168-9dc9-db3c515381ac",
   "metadata": {},
   "outputs": [],
   "source": []
  }
 ],
 "metadata": {
  "environment": {
   "kernel": "conda-base-py",
   "name": "workbench-notebooks.m126",
   "type": "gcloud",
   "uri": "us-docker.pkg.dev/deeplearning-platform-release/gcr.io/workbench-notebooks:m126"
  },
  "kernelspec": {
   "display_name": "Python 3 (ipykernel)",
   "language": "python",
   "name": "conda-base-py"
  },
  "language_info": {
   "codemirror_mode": {
    "name": "ipython",
    "version": 3
   },
   "file_extension": ".py",
   "mimetype": "text/x-python",
   "name": "python",
   "nbconvert_exporter": "python",
   "pygments_lexer": "ipython3",
   "version": "3.10.15"
  }
 },
 "nbformat": 4,
 "nbformat_minor": 5
}
