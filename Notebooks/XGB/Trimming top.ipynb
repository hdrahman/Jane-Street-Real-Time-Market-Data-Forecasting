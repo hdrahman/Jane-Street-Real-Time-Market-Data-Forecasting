{
 "cells": [
  {
   "cell_type": "code",
   "execution_count": 1,
   "id": "5eaab66f-a6ee-4d6e-8b47-6b3de8f04e77",
   "metadata": {
    "tags": []
   },
   "outputs": [
    {
     "name": "stdout",
     "output_type": "stream",
     "text": [
      "Loading dataset...\n",
      "Splitting dataset...\n",
      "Sampling a subset of the training data for feature importance calculation...\n",
      "Training a temporary model to determine feature importance...\n",
      "Extracting top 23 features...\n",
      "Top 23 features: ['responder_0', 'responder_3', 'responder_3_lag_1', 'responder_7', 'responder_8', 'responder_0_lag_1', 'responder_5', 'responder_4', 'feature_61', 'responder_3_lag_diff_1', 'feature_24', 'feature_24_lag_1', 'responder_3_lag_ratio_1', '__index_level_0__', 'responder_7_lag_1', 'responder_4_lag_1', 'responder_0_lag_diff_1', 'responder_5_lag_1', 'responder_8_lag_1', 'partition_id', 'feature_47_lag_1', 'feature_61_lag_1', '__index_level_0___lag_1']\n",
      "Training the final model...\n",
      "Testing the final model on unseen data...\n",
      "Test Weighted R² Score: 0.8705\n"
     ]
    }
   ],
   "source": [
    "import polars as pl\n",
    "import xgboost as xgb\n",
    "import numpy as np\n",
    "from sklearn.model_selection import train_test_split\n",
    "\n",
    "# Score evaluation\n",
    "def weighted_r2_score(y_true, y_pred, weights):\n",
    "    numerator = np.sum(weights * (y_true - y_pred) ** 2)\n",
    "    denominator = np.sum(weights * y_true ** 2)\n",
    "    r2 = 1 - (numerator / denominator)\n",
    "    return r2\n",
    "\n",
    "print(\"Loading dataset...\")\n",
    "data = pl.read_parquet(\"/home/jupyter/data/XGFeatures_partitioned/\")\n",
    "\n",
    "# Split data into training test data\n",
    "print(\"Splitting dataset...\")\n",
    "train_data, test_data = train_test_split(data, test_size=0.2, random_state=42)\n",
    "\n",
    "# Separate features and labels\n",
    "X_train = train_data.select(pl.exclude([\"responder_6\", \"date_id\", \"time_id\", \"weight\"]))\n",
    "y_train = train_data[\"responder_6\"]\n",
    "train_weights = train_data[\"weight\"]\n",
    "\n",
    "X_test = test_data.select(pl.exclude([\"responder_6\", \"date_id\", \"time_id\", \"weight\"]))\n",
    "y_test = test_data[\"responder_6\"]\n",
    "test_weights = test_data[\"weight\"]\n",
    "\n",
    "print(\"Sampling a subset of the training data for feature importance calculation...\")\n",
    "X_train_with_idx = X_train.with_row_index(name=\"row_idx\")\n",
    "X_train_sample = X_train_with_idx.sample(fraction=0.1, seed=42)\n",
    "sampled_indices = X_train_sample[\"row_idx\"]\n",
    "y_train_sample = y_train[sampled_indices]\n",
    "train_weights_sample = train_weights[sampled_indices]\n",
    "X_train_sample = X_train_sample.drop(\"row_idx\")\n",
    "\n",
    "# Train a temporary model to find the top 23 most important features\n",
    "print(\"Training a temporary model to determine feature importance...\")\n",
    "dtrain_sample = xgb.DMatrix(X_train_sample.to_numpy(), label=y_train_sample.to_numpy(), weight=train_weights_sample.to_numpy())\n",
    "params_temp = {\n",
    "    \"objective\": \"reg:squarederror\",\n",
    "    \"eval_metric\": \"rmse\",\n",
    "    \"learning_rate\": 0.1,\n",
    "    \"max_depth\": 4,\n",
    "    \"seed\": 42,\n",
    "}\n",
    "model_temp = xgb.train(params=params_temp, dtrain=dtrain_sample, num_boost_round=50)\n",
    "\n",
    "# Map XGBoost feature indices to actual column names\n",
    "print(\"Extracting top 23 features...\")\n",
    "importance = model_temp.get_score(importance_type=\"weight\")\n",
    "sorted_features = sorted(importance.items(), key=lambda x: x[1], reverse=True)\n",
    "top_feature_indices = [int(f[1:]) for f, _ in sorted_features[:23]]  # Extract feature indices\n",
    "top_features = [X_train.columns[i] for i in top_feature_indices]\n",
    "print(f\"Top 23 features: {top_features}\")\n",
    "\n",
    "# Prepare the training and test sets with the top 23 features\n",
    "X_train_top = X_train.select(top_features)\n",
    "X_test_top = X_test.select(top_features)\n",
    "\n",
    "# Train the final model using the top 23 features\n",
    "print(\"Training the final model...\")\n",
    "dtrain_top = xgb.DMatrix(X_train_top.to_numpy(), label=y_train.to_numpy(), weight=train_weights.to_numpy())\n",
    "dtest_top = xgb.DMatrix(X_test_top.to_numpy())\n",
    "params_final = {\n",
    "    \"objective\": \"reg:squarederror\",\n",
    "    \"eval_metric\": \"rmse\",\n",
    "    \"learning_rate\": 0.1,\n",
    "    \"max_depth\": 6,\n",
    "    \"seed\": 42,\n",
    "}\n",
    "final_model = xgb.train(params=params_final, dtrain=dtrain_top, num_boost_round=100)\n",
    "\n",
    "# Test the final model on unseen data\n",
    "print(\"Testing the final model on unseen data...\")\n",
    "y_pred = final_model.predict(dtest_top)\n",
    "test_r2 = weighted_r2_score(y_test.to_numpy(), y_pred, test_weights.to_numpy())\n",
    "\n",
    "print(f\"Test Weighted R² Score: {test_r2:.4f}\")"
   ]
  },
  {
   "cell_type": "code",
   "execution_count": null,
   "id": "ceab2fb7-a0a3-4213-be56-287695999d9a",
   "metadata": {},
   "outputs": [],
   "source": []
  }
 ],
 "metadata": {
  "environment": {
   "kernel": "conda-base-py",
   "name": "workbench-notebooks.m126",
   "type": "gcloud",
   "uri": "us-docker.pkg.dev/deeplearning-platform-release/gcr.io/workbench-notebooks:m126"
  },
  "kernelspec": {
   "display_name": "Python 3 (ipykernel)",
   "language": "python",
   "name": "conda-base-py"
  },
  "language_info": {
   "codemirror_mode": {
    "name": "ipython",
    "version": 3
   },
   "file_extension": ".py",
   "mimetype": "text/x-python",
   "name": "python",
   "nbconvert_exporter": "python",
   "pygments_lexer": "ipython3",
   "version": "3.10.15"
  }
 },
 "nbformat": 4,
 "nbformat_minor": 5
}
