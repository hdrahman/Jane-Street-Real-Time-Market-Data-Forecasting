{
 "cells": [
  {
   "cell_type": "code",
   "execution_count": 2,
   "id": "ce767e1a-ee0b-44f6-ba2f-95d8a4355692",
   "metadata": {
    "tags": []
   },
   "outputs": [],
   "source": [
    "import polars as pl\n",
    "\n",
    "# Load the Parquet file with Pandas\n",
    "data = pl.read_parquet('/home/jupyter/data/int32Features.parquet', use_pyarrow=True)\n",
    "#print(data.info())\n",
    "#print(data.head())"
   ]
  },
  {
   "cell_type": "code",
   "execution_count": 2,
   "id": "3804dcc7-277c-495b-8772-f17e0045c556",
   "metadata": {
    "tags": []
   },
   "outputs": [],
   "source": [
    "# Filter rows with date_id >= 85\n",
    "data = data.filter(pl.col(\"date_id\") >= 85)\n",
    "#print(train_data.head())\n"
   ]
  },
  {
   "cell_type": "code",
   "execution_count": 3,
   "id": "5db441f7-4462-4159-96c1-7fcd42fecbd2",
   "metadata": {
    "tags": []
   },
   "outputs": [],
   "source": [
    "# Define columns to exclude\n",
    "exclude_columns = ['date_id', 'time_id', 'symbol_id', 'weight', 'partition_id', \"responder_6\"]\n",
    "feature_columns = [col for col in data.columns if col not in exclude_columns]"
   ]
  },
  {
   "cell_type": "code",
   "execution_count": 4,
   "id": "fd567b7a-c445-446d-bf43-e0b6bb4ec981",
   "metadata": {
    "tags": []
   },
   "outputs": [],
   "source": [
    "# Generate lagged features for numerical feature columns\n",
    "for feature in feature_columns:\n",
    "    data = data.with_columns(\n",
    "        pl.col(feature).shift(1).over(\"symbol_id\").alias(f\"{feature}_lag_1\")\n",
    "    )"
   ]
  },
  {
   "cell_type": "code",
   "execution_count": 5,
   "id": "a1fee702-20de-4228-9669-896278855b1c",
   "metadata": {
    "tags": []
   },
   "outputs": [],
   "source": [
    "# Fill new NaN values\n",
    "data = data.fill_null(0)"
   ]
  },
  {
   "cell_type": "code",
   "execution_count": null,
   "id": "5cc8455c-d1e9-4869-92d9-7d6782e1a065",
   "metadata": {
    "tags": []
   },
   "outputs": [],
   "source": [
    "# Generate difference features\n",
    "for feature in feature_columns:\n",
    "    data = data.with_columns(\n",
    "        (pl.col(feature) - pl.col(f'{feature}_lag_1')).alias(f'{feature}_lag_diff_1')\n",
    "    )"
   ]
  },
  {
   "cell_type": "code",
   "execution_count": null,
   "id": "f4b4e602-b53b-4675-a958-f8212294f8f8",
   "metadata": {
    "tags": []
   },
   "outputs": [],
   "source": [
    "# Generate ratio features\n",
    "for feature in feature_columns:\n",
    "    data = data.with_columns(\n",
    "        (pl.col(feature) / (pl.col(f'{feature}_lag_1') + 1e-9)).alias(f'{feature}_lag_ratio_1')\n",
    "    )"
   ]
  },
  {
   "cell_type": "code",
   "execution_count": 7,
   "id": "52d5203c-f09a-4f81-a47b-90d562d55626",
   "metadata": {
    "tags": []
   },
   "outputs": [],
   "source": [
    "# Save the dataset for XGBoost (raw + lagged)\n",
    "data.write_parquet('/home/jupyter/data/Features.parquet', compression='snappy')"
   ]
  },
  {
   "cell_type": "code",
   "execution_count": null,
   "id": "40d8a254-21d7-436f-9ae3-8f5e40a55bf9",
   "metadata": {
    "tags": []
   },
   "outputs": [],
   "source": [
    "print(data.head())\n",
    "total_nulls = data.null_count().sum()\n",
    "print(f\"Total null values in dataset: {total_nulls}\")"
   ]
  },
  {
   "cell_type": "code",
   "execution_count": 3,
   "id": "1fa7a348-1428-44ef-85c6-9ec2693cd693",
   "metadata": {
    "tags": []
   },
   "outputs": [],
   "source": [
    "import os\n",
    "output_dir = \"/home/jupyter/data/partitioned/\"\n",
    "os.makedirs(output_dir, exist_ok=True)\n",
    "chunk_size = 1_500_000\n",
    "# Partition the dataset by rows and save each chunk\n",
    "for i in range(0, len(data), chunk_size):\n",
    "    chunk = data.slice(i, chunk_size)\n",
    "    chunk.write_parquet(\n",
    "        f\"{output_dir}/XGFeatures_part_{i // chunk_size}.parquet\",\n",
    "        compression=\"zstd\"  # Used ZSTD for best performance and compression\n",
    "    )"
   ]
  },
  {
   "cell_type": "code",
   "execution_count": null,
   "id": "f62971f4-85d6-4c00-a3e2-0b422faf849f",
   "metadata": {
    "tags": []
   },
   "outputs": [],
   "source": [
    "null_counts = data.null_count()\n",
    "print(null_counts)"
   ]
  },
  {
   "cell_type": "code",
   "execution_count": null,
   "id": "945acdd2-498c-468a-8e8e-71a300d9c7cc",
   "metadata": {
    "tags": []
   },
   "outputs": [],
   "source": [
    "print(data.columns)"
   ]
  },
  {
   "cell_type": "code",
   "execution_count": null,
   "id": "49f36d03-e99a-4b8f-8757-bd930df744ed",
   "metadata": {
    "tags": []
   },
   "outputs": [],
   "source": [
    "data.write_parquet('../data/XGFeatures.parquet', compression='snappy')"
   ]
  },
  {
   "cell_type": "code",
   "execution_count": null,
   "id": "41e4afa8-0b04-4337-ab8f-1aeb36b78ecb",
   "metadata": {
    "tags": []
   },
   "outputs": [],
   "source": [
    "from sklearn.preprocessing import MinMaxScaler#for TFT\n",
    "\n",
    "#Feature scaling\n",
    "scaler = MinMaxScaler()\n",
    "scaled_features = scaler.fit_transform(data.select(feature_columns).to_numpy())\n",
    "\n",
    "scaled_df = pl.DataFrame(scaled_features, schema=feature_columns)\n",
    "data = data.drop(feature_columns).hstack(scaled_df)\n",
    "\n",
    "data.write_parquet('../data/TFT_Featured_Scaled.parquet', compression='snappy')'''"
   ]
  },
  {
   "cell_type": "code",
   "execution_count": null,
   "id": "09375d3c-e1e4-42a1-8c4e-3f065dc4e0b9",
   "metadata": {},
   "outputs": [],
   "source": [
    "import polars as pl #lazy way to fill null values(explored due to memory issues)\n",
    "\n",
    "\n",
    "data = pl.scan_parquet('../data/XGFeatures.parquet')\n",
    "data = data.with_columns([\n",
    "    pl.col(\"*\").fill_null(0)\n",
    "])\n",
    "data = data.collect()\n",
    "print(data.head())"
   ]
  }
 ],
 "metadata": {
  "environment": {
   "kernel": "conda-base-py",
   "name": "workbench-notebooks.m126",
   "type": "gcloud",
   "uri": "us-docker.pkg.dev/deeplearning-platform-release/gcr.io/workbench-notebooks:m126"
  },
  "kernelspec": {
   "display_name": "Python 3 (ipykernel)",
   "language": "python",
   "name": "conda-base-py"
  },
  "language_info": {
   "codemirror_mode": {
    "name": "ipython",
    "version": 3
   },
   "file_extension": ".py",
   "mimetype": "text/x-python",
   "name": "python",
   "nbconvert_exporter": "python",
   "pygments_lexer": "ipython3",
   "version": "3.10.15"
  }
 },
 "nbformat": 4,
 "nbformat_minor": 5
}
