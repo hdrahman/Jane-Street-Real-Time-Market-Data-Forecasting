{
 "cells": [
  {
   "cell_type": "code",
   "execution_count": 3,
   "id": "a096a004-a9d6-4c6e-abf7-2ae66861e83d",
   "metadata": {
    "tags": []
   },
   "outputs": [],
   "source": [
    "import pandas as pd\n",
    "train_data = pd.read_parquet('../data/XGBoost_data.parquet')\n",
    "train_data = train_data.sort_values(by=['symbol_id', 'date_id', 'time_id'])\n"
   ]
  },
  {
   "cell_type": "code",
   "execution_count": 4,
   "id": "08760bf7-4e46-4e96-9e06-97defd79f4dc",
   "metadata": {
    "tags": []
   },
   "outputs": [],
   "source": [
    "# List of responder columns\n",
    "responder_columns = [col for col in train_data.columns if col.startswith('responder_')]\n",
    "\n",
    "# Generate lag features\n",
    "for responder in responder_columns:\n",
    "    train_data[f'{responder}_lag_1'] = train_data.groupby('symbol_id')[responder].shift(1)\n"
   ]
  },
  {
   "cell_type": "code",
   "execution_count": 5,
   "id": "ef21ca58-ef2f-4645-8a62-6dae9f4cec0f",
   "metadata": {
    "tags": []
   },
   "outputs": [],
   "source": [
    "for responder in responder_columns:\n",
    "    train_data[f'{responder}_rolling_mean_3'] = train_data.groupby('symbol_id')[responder].rolling(window=3).mean().reset_index(0, drop=True)\n",
    "for responder in responder_columns:\n",
    "    train_data[f'{responder}_lag_diff_1'] = train_data[responder] - train_data[f'{responder}_lag_1']\n",
    "    train_data[f'{responder}_lag_ratio_1'] = train_data[responder] / (train_data[f'{responder}_lag_1'] + 1e-8)\n"
   ]
  },
  {
   "cell_type": "code",
   "execution_count": 10,
   "id": "554cbab1-e199-40d4-bd8c-6c9a1bdc5b8a",
   "metadata": {
    "tags": []
   },
   "outputs": [
    {
     "name": "stdout",
     "output_type": "stream",
     "text": [
      "         date_id  time_id  symbol_id    weight  feature_00  feature_01  \\\n",
      "8799885      553        0          0  2.793216    3.674681    0.559137   \n",
      "8799914      553        1          0  2.793216    3.655818   -0.729315   \n",
      "8799943      553        2          0  2.793216    3.674681   -0.448754   \n",
      "8799972      553        3          0  2.793216    3.461334   -0.521957   \n",
      "8800001      553        4          0  2.793216    3.524649   -0.812735   \n",
      "\n",
      "         feature_04  feature_05  feature_06  feature_07  ...  \\\n",
      "8799885   -2.866148    1.045130    1.190328   -0.050570  ...   \n",
      "8799914   -2.866148    1.463785    1.666280    0.389528  ...   \n",
      "8799943   -2.866148    1.694624    1.666280    1.319947  ...   \n",
      "8799972   -2.547946    1.694624    1.666280    1.692438  ...   \n",
      "8800001   -2.866148    1.694624    1.666280    1.692438  ...   \n",
      "\n",
      "         responder_4_lag_diff_1  responder_4_lag_ratio_1  \\\n",
      "8799885                0.000000                 0.000000   \n",
      "8799914               -0.633688                 0.810792   \n",
      "8799943                1.240465                 1.456813   \n",
      "8799972                1.044054                 1.263920   \n",
      "8800001               -0.270560                 0.945888   \n",
      "\n",
      "         responder_5_lag_diff_1  responder_5_lag_ratio_1  \\\n",
      "8799885                0.000000                 0.000000   \n",
      "8799914               -0.595029                 0.024018   \n",
      "8799943                1.362153                94.023697   \n",
      "8799972                1.354740                 1.983980   \n",
      "8800001               -0.751255                 0.724970   \n",
      "\n",
      "         responder_6_lag_diff_1  responder_6_lag_ratio_1  \\\n",
      "8799885                0.000000                 0.000000   \n",
      "8799914                0.722672                 1.265292   \n",
      "8799943               -0.686097                 0.800943   \n",
      "8799972                2.239366                 1.811178   \n",
      "8800001               -0.671191                 0.865762   \n",
      "\n",
      "         responder_7_lag_diff_1  responder_7_lag_ratio_1  \\\n",
      "8799885                     0.0                      0.0   \n",
      "8799914                     0.0                      1.0   \n",
      "8799943                     0.0                      1.0   \n",
      "8799972                     0.0                      1.0   \n",
      "8800001                     0.0                      1.0   \n",
      "\n",
      "         responder_8_lag_diff_1  responder_8_lag_ratio_1  \n",
      "8799885                0.000000                 0.000000  \n",
      "8799914                1.093615                 1.363894  \n",
      "8799943                0.573711                 1.139966  \n",
      "8799972               -0.293059                 0.937282  \n",
      "8800001                0.620420                 1.141662  \n",
      "\n",
      "[5 rows x 117 columns]\n",
      "Index(['date_id', 'time_id', 'symbol_id', 'weight', 'feature_00', 'feature_01',\n",
      "       'feature_04', 'feature_05', 'feature_06', 'feature_07',\n",
      "       ...\n",
      "       'responder_4_lag_diff_1', 'responder_4_lag_ratio_1',\n",
      "       'responder_5_lag_diff_1', 'responder_5_lag_ratio_1',\n",
      "       'responder_6_lag_diff_1', 'responder_6_lag_ratio_1',\n",
      "       'responder_7_lag_diff_1', 'responder_7_lag_ratio_1',\n",
      "       'responder_8_lag_diff_1', 'responder_8_lag_ratio_1'],\n",
      "      dtype='object', length=117)\n"
     ]
    }
   ],
   "source": [
    "print(train_data.head())\n",
    "print(train_data.columns)\n"
   ]
  },
  {
   "cell_type": "code",
   "execution_count": 9,
   "id": "b8bd5988-0bb5-4ad8-8bc0-5aa29855af04",
   "metadata": {
    "tags": []
   },
   "outputs": [],
   "source": [
    "train_data.fillna(0, inplace=True)\n"
   ]
  },
  {
   "cell_type": "code",
   "execution_count": null,
   "id": "c0c286e4-654b-4f2f-9e77-c4785f33a41d",
   "metadata": {
    "tags": []
   },
   "outputs": [],
   "source": [
    "train_data.to_parquet('../data/XGBoost_data.parquet', index=False)"
   ]
  },
  {
   "cell_type": "code",
   "execution_count": null,
   "id": "a67bd226-b2a6-4968-aa81-c05839f3da0e",
   "metadata": {},
   "outputs": [],
   "source": []
  }
 ],
 "metadata": {
  "environment": {
   "kernel": "conda-base-py",
   "name": "workbench-notebooks.m126",
   "type": "gcloud",
   "uri": "us-docker.pkg.dev/deeplearning-platform-release/gcr.io/workbench-notebooks:m126"
  },
  "kernelspec": {
   "display_name": "Python 3 (ipykernel)",
   "language": "python",
   "name": "conda-base-py"
  },
  "language_info": {
   "codemirror_mode": {
    "name": "ipython",
    "version": 3
   },
   "file_extension": ".py",
   "mimetype": "text/x-python",
   "name": "python",
   "nbconvert_exporter": "python",
   "pygments_lexer": "ipython3",
   "version": "3.10.15"
  }
 },
 "nbformat": 4,
 "nbformat_minor": 5
}
