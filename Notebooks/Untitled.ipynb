{
 "cells": [
  {
   "cell_type": "code",
   "execution_count": 1,
   "id": "0c1b829a-bc50-400a-9358-ae4b48fab395",
   "metadata": {
    "tags": []
   },
   "outputs": [
    {
     "name": "stdout",
     "output_type": "stream",
     "text": [
      "Processed file saved to: /home/jupyter/data/32Features.parquet\n"
     ]
    }
   ],
   "source": [
    "import polars as pl\n",
    "\n",
    "def process_single_parquet_file(input_path, output_path):\n",
    "\n",
    "    # Read the Parquet file\n",
    "    df = pl.read_parquet(input_path)\n",
    "    # Convert all Float64 columns to Float32\n",
    "    df = df.with_columns([\n",
    "        pl.col(col).cast(pl.Float32)\n",
    "        for col, dtype in df.schema.items()\n",
    "        if dtype == pl.Float64\n",
    "    ])\n",
    "    \n",
    "    # Save the modified dataframe back as a Parquet file\n",
    "    df.write_parquet(output_path)\n",
    "    print(f\"Processed file saved to: {output_path}\")\n",
    "\n",
    "# Example Usage:\n",
    "input_file = \"/home/jupyter/data/Features.parquet\"\n",
    "output_file = \"/home/jupyter/data/32Features.parquet\"\n",
    "\n",
    "process_single_parquet_file(input_file, output_file)"
   ]
  },
  {
   "cell_type": "code",
   "execution_count": null,
   "id": "3d5f9597-41fc-4de6-8abd-db41db338619",
   "metadata": {
    "tags": []
   },
   "outputs": [],
   "source": [
    "df = pl.read_parquet(\"/home/jupyter/data/32Features.parquet\")\n",
    "print(df.head())"
   ]
  },
  {
   "cell_type": "code",
   "execution_count": null,
   "id": "4fb4f886-118e-4e74-bdff-fa7bbaabf513",
   "metadata": {},
   "outputs": [],
   "source": []
  }
 ],
 "metadata": {
  "environment": {
   "kernel": "conda-base-py",
   "name": "workbench-notebooks.m126",
   "type": "gcloud",
   "uri": "us-docker.pkg.dev/deeplearning-platform-release/gcr.io/workbench-notebooks:m126"
  },
  "kernelspec": {
   "display_name": "Python 3 (ipykernel)",
   "language": "python",
   "name": "conda-base-py"
  },
  "language_info": {
   "codemirror_mode": {
    "name": "ipython",
    "version": 3
   },
   "file_extension": ".py",
   "mimetype": "text/x-python",
   "name": "python",
   "nbconvert_exporter": "python",
   "pygments_lexer": "ipython3",
   "version": "3.10.15"
  }
 },
 "nbformat": 4,
 "nbformat_minor": 5
}
