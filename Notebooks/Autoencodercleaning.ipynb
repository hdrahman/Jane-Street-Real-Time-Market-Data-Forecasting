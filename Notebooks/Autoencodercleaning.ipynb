{
 "cells": [
  {
   "cell_type": "code",
   "execution_count": null,
   "id": "dcd3de2c-af00-468a-8af8-32496b5485e4",
   "metadata": {
    "tags": []
   },
   "outputs": [],
   "source": [
    "import polars as pl\n",
    "import numpy as np\n",
    "from sklearn.preprocessing import MinMaxScaler\n",
    "\n",
    "# Load the dataset\n",
    "train_data = pl.read_parquet('../data/jane-street/train.parquet')\n",
    "\n",
    "# Display the first few rows (use .head() in an interactive notebook)\n",
    "train_data.head()\n"
   ]
  },
  {
   "cell_type": "code",
   "execution_count": null,
   "id": "57a85859-da4c-4a5d-ab4f-f553507faa0f",
   "metadata": {
    "tags": []
   },
   "outputs": [],
   "source": [
    "# Filter out the first 85 days\n",
    "train_data = train_data.filter(pl.col(\"date_id\") >= 85)\n",
    "\n",
    "# Fill NaN values with 0 (or other preferred method)\n",
    "train_data = train_data.fill_null(0)\n"
   ]
  },
  {
   "cell_type": "code",
   "execution_count": null,
   "id": "bfd670c9-0f46-479a-b6e9-bb2df3430379",
   "metadata": {
    "tags": []
   },
   "outputs": [],
   "source": [
    "# Define columns to exclude\n",
    "exclude_columns = ['date_id', 'time_id', 'symbol_id', 'weight', 'partition_id'] + \\\n",
    "                  [col for col in train_data.columns if col.startswith('responder_')]\n",
    "\n",
    "# Select numerical columns\n",
    "numerical_columns = [col for col in train_data.columns if col not in exclude_columns]\n"
   ]
  },
  {
   "cell_type": "code",
   "execution_count": null,
   "id": "2aae2f50-94a7-497e-a634-54c45a236601",
   "metadata": {
    "tags": []
   },
   "outputs": [],
   "source": [
    "# Convert Polars DataFrame to NumPy for scaling\n",
    "scaler = MinMaxScaler()\n",
    "numerical_data = train_data.select(numerical_columns).to_numpy()\n",
    "\n",
    "# Scale numerical columns\n",
    "scaled_data = scaler.fit_transform(numerical_data)\n",
    "\n",
    "# Replace scaled data back in the Polars DataFrame\n",
    "scaled_df = pl.DataFrame(scaled_data, schema=numerical_columns)\n",
    "train_data = train_data.drop(numerical_columns).hstack(scaled_df)\n"
   ]
  },
  {
   "cell_type": "code",
   "execution_count": null,
   "id": "d3c4801a-76b5-473f-a1cc-269050793b68",
   "metadata": {
    "tags": []
   },
   "outputs": [],
   "source": [
    "# Save the cleaned data as Parquet\n",
    "train_data.to_parquet('../data/Encoder.parquet', engine='pyarrow', compression='snappy')\n"
   ]
  },
  {
   "cell_type": "code",
   "execution_count": null,
   "id": "6da7e4b0-b4f7-405d-aeb5-c54f2427fc5c",
   "metadata": {
    "tags": []
   },
   "outputs": [],
   "source": [
    "print(\"Columns in saved data:\", train_data.columns)"
   ]
  },
  {
   "cell_type": "code",
   "execution_count": null,
   "id": "1be8bd09-1aa8-41f3-89d4-052663ad8ce2",
   "metadata": {},
   "outputs": [],
   "source": []
  }
 ],
 "metadata": {
  "environment": {
   "kernel": "conda-base-py",
   "name": "workbench-notebooks.m126",
   "type": "gcloud",
   "uri": "us-docker.pkg.dev/deeplearning-platform-release/gcr.io/workbench-notebooks:m126"
  },
  "kernelspec": {
   "display_name": "Python 3 (ipykernel)",
   "language": "python",
   "name": "conda-base-py"
  },
  "language_info": {
   "codemirror_mode": {
    "name": "ipython",
    "version": 3
   },
   "file_extension": ".py",
   "mimetype": "text/x-python",
   "name": "python",
   "nbconvert_exporter": "python",
   "pygments_lexer": "ipython3",
   "version": "3.10.15"
  }
 },
 "nbformat": 4,
 "nbformat_minor": 5
}
