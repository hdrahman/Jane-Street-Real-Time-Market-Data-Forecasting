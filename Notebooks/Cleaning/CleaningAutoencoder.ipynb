{
 "cells": [
  {
   "cell_type": "code",
   "execution_count": 3,
   "id": "dcd3de2c-af00-468a-8af8-32496b5485e4",
   "metadata": {
    "tags": []
   },
   "outputs": [
    {
     "data": {
      "text/html": [
       "<div><style>\n",
       ".dataframe > thead > tr,\n",
       ".dataframe > tbody > tr {\n",
       "  text-align: right;\n",
       "  white-space: pre-wrap;\n",
       "}\n",
       "</style>\n",
       "<small>shape: (5, 93)</small><table border=\"1\" class=\"dataframe\"><thead><tr><th>date_id</th><th>time_id</th><th>symbol_id</th><th>weight</th><th>feature_00</th><th>feature_01</th><th>feature_02</th><th>feature_03</th><th>feature_04</th><th>feature_05</th><th>feature_06</th><th>feature_07</th><th>feature_08</th><th>feature_09</th><th>feature_10</th><th>feature_11</th><th>feature_12</th><th>feature_13</th><th>feature_14</th><th>feature_15</th><th>feature_16</th><th>feature_17</th><th>feature_18</th><th>feature_19</th><th>feature_20</th><th>feature_21</th><th>feature_22</th><th>feature_23</th><th>feature_24</th><th>feature_25</th><th>feature_26</th><th>feature_27</th><th>feature_28</th><th>feature_29</th><th>feature_30</th><th>feature_31</th><th>feature_32</th><th>&hellip;</th><th>feature_52</th><th>feature_53</th><th>feature_54</th><th>feature_55</th><th>feature_56</th><th>feature_57</th><th>feature_58</th><th>feature_59</th><th>feature_60</th><th>feature_61</th><th>feature_62</th><th>feature_63</th><th>feature_64</th><th>feature_65</th><th>feature_66</th><th>feature_67</th><th>feature_68</th><th>feature_69</th><th>feature_70</th><th>feature_71</th><th>feature_72</th><th>feature_73</th><th>feature_74</th><th>feature_75</th><th>feature_76</th><th>feature_77</th><th>feature_78</th><th>responder_0</th><th>responder_1</th><th>responder_2</th><th>responder_3</th><th>responder_4</th><th>responder_5</th><th>responder_6</th><th>responder_7</th><th>responder_8</th><th>partition_id</th></tr><tr><td>i16</td><td>i16</td><td>i8</td><td>f32</td><td>f32</td><td>f32</td><td>f32</td><td>f32</td><td>f32</td><td>f32</td><td>f32</td><td>f32</td><td>f32</td><td>i8</td><td>i8</td><td>i16</td><td>f32</td><td>f32</td><td>f32</td><td>f32</td><td>f32</td><td>f32</td><td>f32</td><td>f32</td><td>f32</td><td>f32</td><td>f32</td><td>f32</td><td>f32</td><td>f32</td><td>f32</td><td>f32</td><td>f32</td><td>f32</td><td>f32</td><td>f32</td><td>f32</td><td>&hellip;</td><td>f32</td><td>f32</td><td>f32</td><td>f32</td><td>f32</td><td>f32</td><td>f32</td><td>f32</td><td>f32</td><td>f32</td><td>f32</td><td>f32</td><td>f32</td><td>f32</td><td>f32</td><td>f32</td><td>f32</td><td>f32</td><td>f32</td><td>f32</td><td>f32</td><td>f32</td><td>f32</td><td>f32</td><td>f32</td><td>f32</td><td>f32</td><td>f32</td><td>f32</td><td>f32</td><td>f32</td><td>f32</td><td>f32</td><td>f32</td><td>f32</td><td>f32</td><td>i64</td></tr></thead><tbody><tr><td>0</td><td>0</td><td>1</td><td>3.889038</td><td>null</td><td>null</td><td>null</td><td>null</td><td>null</td><td>0.851033</td><td>0.242971</td><td>0.2634</td><td>-0.891687</td><td>11</td><td>7</td><td>76</td><td>-0.883028</td><td>0.003067</td><td>-0.744703</td><td>null</td><td>-0.169586</td><td>null</td><td>-1.335938</td><td>-1.707803</td><td>0.91013</td><td>null</td><td>1.636431</td><td>1.522133</td><td>-1.551398</td><td>-0.229627</td><td>null</td><td>null</td><td>1.378301</td><td>-0.283712</td><td>0.123196</td><td>null</td><td>null</td><td>&hellip;</td><td>null</td><td>null</td><td>-0.808103</td><td>null</td><td>-2.037683</td><td>0.727661</td><td>null</td><td>-0.989118</td><td>-0.345213</td><td>-1.36224</td><td>null</td><td>null</td><td>null</td><td>null</td><td>null</td><td>-1.251104</td><td>-0.110252</td><td>-0.491157</td><td>-1.02269</td><td>0.152241</td><td>-0.659864</td><td>null</td><td>null</td><td>-0.261412</td><td>-0.211486</td><td>-0.335556</td><td>-0.281498</td><td>0.738489</td><td>-0.069556</td><td>1.380875</td><td>2.005353</td><td>0.186018</td><td>1.218368</td><td>0.775981</td><td>0.346999</td><td>0.095504</td><td>0</td></tr><tr><td>0</td><td>0</td><td>7</td><td>1.370613</td><td>null</td><td>null</td><td>null</td><td>null</td><td>null</td><td>0.676961</td><td>0.151984</td><td>0.192465</td><td>-0.521729</td><td>11</td><td>7</td><td>76</td><td>-0.865307</td><td>-0.225629</td><td>-0.582163</td><td>null</td><td>0.317467</td><td>null</td><td>-1.250016</td><td>-1.682929</td><td>1.412757</td><td>null</td><td>0.520378</td><td>0.744132</td><td>-0.788658</td><td>0.641776</td><td>null</td><td>null</td><td>0.2272</td><td>0.580907</td><td>1.128879</td><td>null</td><td>null</td><td>&hellip;</td><td>null</td><td>null</td><td>-1.625862</td><td>null</td><td>-1.410017</td><td>1.063013</td><td>null</td><td>0.888355</td><td>0.467994</td><td>-1.36224</td><td>null</td><td>null</td><td>null</td><td>null</td><td>null</td><td>-1.065759</td><td>0.013322</td><td>-0.592855</td><td>-1.052685</td><td>-0.393726</td><td>-0.741603</td><td>null</td><td>null</td><td>-0.281207</td><td>-0.182894</td><td>-0.245565</td><td>-0.302441</td><td>2.965889</td><td>1.190077</td><td>-0.523998</td><td>3.849921</td><td>2.626981</td><td>5.0</td><td>0.703665</td><td>0.216683</td><td>0.778639</td><td>0</td></tr><tr><td>0</td><td>0</td><td>9</td><td>2.285698</td><td>null</td><td>null</td><td>null</td><td>null</td><td>null</td><td>1.056285</td><td>0.187227</td><td>0.249901</td><td>-0.77305</td><td>11</td><td>7</td><td>76</td><td>-0.675719</td><td>-0.199404</td><td>-0.586798</td><td>null</td><td>-0.814909</td><td>null</td><td>-1.296782</td><td>-2.040234</td><td>0.639589</td><td>null</td><td>1.597359</td><td>0.657514</td><td>-1.350148</td><td>0.364215</td><td>null</td><td>null</td><td>-0.017751</td><td>-0.317361</td><td>-0.122379</td><td>null</td><td>null</td><td>&hellip;</td><td>null</td><td>null</td><td>-0.72542</td><td>null</td><td>-2.29417</td><td>1.764551</td><td>null</td><td>-0.120789</td><td>-0.063458</td><td>-1.36224</td><td>null</td><td>null</td><td>null</td><td>null</td><td>null</td><td>-0.882604</td><td>-0.072482</td><td>-0.617934</td><td>-0.86323</td><td>-0.241892</td><td>-0.709919</td><td>null</td><td>null</td><td>0.377131</td><td>0.300724</td><td>-0.106842</td><td>-0.096792</td><td>-0.864488</td><td>-0.280303</td><td>-0.326697</td><td>0.375781</td><td>1.271291</td><td>0.099793</td><td>2.109352</td><td>0.670881</td><td>0.772828</td><td>0</td></tr><tr><td>0</td><td>0</td><td>10</td><td>0.690606</td><td>null</td><td>null</td><td>null</td><td>null</td><td>null</td><td>1.139366</td><td>0.273328</td><td>0.306549</td><td>-1.262223</td><td>42</td><td>5</td><td>150</td><td>-0.694008</td><td>3.004091</td><td>0.114809</td><td>null</td><td>-0.251882</td><td>null</td><td>-1.902009</td><td>-0.979447</td><td>0.241165</td><td>null</td><td>-0.392359</td><td>-0.224699</td><td>-2.129397</td><td>-0.855287</td><td>null</td><td>null</td><td>0.404142</td><td>-0.578156</td><td>0.105702</td><td>null</td><td>null</td><td>&hellip;</td><td>null</td><td>null</td><td>1.313203</td><td>null</td><td>-0.810125</td><td>2.939022</td><td>null</td><td>3.988801</td><td>1.834661</td><td>-1.36224</td><td>null</td><td>null</td><td>null</td><td>null</td><td>null</td><td>-0.697595</td><td>1.074309</td><td>-0.206929</td><td>-0.530602</td><td>4.765215</td><td>0.571554</td><td>null</td><td>null</td><td>-0.226891</td><td>-0.251412</td><td>-0.215522</td><td>-0.296244</td><td>0.408499</td><td>0.223992</td><td>2.294888</td><td>1.097444</td><td>1.225872</td><td>1.225376</td><td>1.114137</td><td>0.775199</td><td>-1.379516</td><td>0</td></tr><tr><td>0</td><td>0</td><td>14</td><td>0.44057</td><td>null</td><td>null</td><td>null</td><td>null</td><td>null</td><td>0.9552</td><td>0.262404</td><td>0.344457</td><td>-0.613813</td><td>44</td><td>3</td><td>16</td><td>-0.947351</td><td>-0.030018</td><td>-0.502379</td><td>null</td><td>0.646086</td><td>null</td><td>-1.844685</td><td>-1.58656</td><td>-0.182024</td><td>null</td><td>-0.969949</td><td>-0.673813</td><td>-1.282132</td><td>-1.399894</td><td>null</td><td>null</td><td>0.043815</td><td>-0.320225</td><td>-0.031713</td><td>null</td><td>null</td><td>&hellip;</td><td>null</td><td>null</td><td>0.476195</td><td>null</td><td>-0.771732</td><td>2.843421</td><td>null</td><td>1.379815</td><td>0.411827</td><td>-1.36224</td><td>null</td><td>null</td><td>null</td><td>null</td><td>null</td><td>-0.948601</td><td>-0.136814</td><td>-0.447704</td><td>-1.141761</td><td>0.099631</td><td>-0.661928</td><td>null</td><td>null</td><td>3.678076</td><td>2.793581</td><td>2.61825</td><td>3.418133</td><td>-0.373387</td><td>-0.502764</td><td>-0.348021</td><td>-3.928148</td><td>-1.591366</td><td>-5.0</td><td>-3.57282</td><td>-1.089123</td><td>-5.0</td><td>0</td></tr></tbody></table></div>"
      ],
      "text/plain": [
       "shape: (5, 93)\n",
       "┌─────────┬─────────┬───────────┬──────────┬───┬────────────┬────────────┬────────────┬────────────┐\n",
       "│ date_id ┆ time_id ┆ symbol_id ┆ weight   ┆ … ┆ responder_ ┆ responder_ ┆ responder_ ┆ partition_ │\n",
       "│ ---     ┆ ---     ┆ ---       ┆ ---      ┆   ┆ 6          ┆ 7          ┆ 8          ┆ id         │\n",
       "│ i16     ┆ i16     ┆ i8        ┆ f32      ┆   ┆ ---        ┆ ---        ┆ ---        ┆ ---        │\n",
       "│         ┆         ┆           ┆          ┆   ┆ f32        ┆ f32        ┆ f32        ┆ i64        │\n",
       "╞═════════╪═════════╪═══════════╪══════════╪═══╪════════════╪════════════╪════════════╪════════════╡\n",
       "│ 0       ┆ 0       ┆ 1         ┆ 3.889038 ┆ … ┆ 0.775981   ┆ 0.346999   ┆ 0.095504   ┆ 0          │\n",
       "│ 0       ┆ 0       ┆ 7         ┆ 1.370613 ┆ … ┆ 0.703665   ┆ 0.216683   ┆ 0.778639   ┆ 0          │\n",
       "│ 0       ┆ 0       ┆ 9         ┆ 2.285698 ┆ … ┆ 2.109352   ┆ 0.670881   ┆ 0.772828   ┆ 0          │\n",
       "│ 0       ┆ 0       ┆ 10        ┆ 0.690606 ┆ … ┆ 1.114137   ┆ 0.775199   ┆ -1.379516  ┆ 0          │\n",
       "│ 0       ┆ 0       ┆ 14        ┆ 0.44057  ┆ … ┆ -3.57282   ┆ -1.089123  ┆ -5.0       ┆ 0          │\n",
       "└─────────┴─────────┴───────────┴──────────┴───┴────────────┴────────────┴────────────┴────────────┘"
      ]
     },
     "execution_count": 3,
     "metadata": {},
     "output_type": "execute_result"
    }
   ],
   "source": [
    "import polars as pl\n",
    "import numpy as np\n",
    "from sklearn.preprocessing import MinMaxScaler\n",
    "\n",
    "# Load the dataset\n",
    "train_data = pl.read_parquet('/home/jupyter/data/jane-street/train.parquet')\n",
    "\n",
    "# Display the first few rows (use .head() in an interactive notebook)\n",
    "train_data.head()\n"
   ]
  },
  {
   "cell_type": "code",
   "execution_count": 4,
   "id": "57a85859-da4c-4a5d-ab4f-f553507faa0f",
   "metadata": {
    "tags": []
   },
   "outputs": [],
   "source": [
    "# Filter out the first 85 days\n",
    "train_data = train_data.filter(pl.col(\"date_id\") >= 85)\n",
    "\n",
    "# Fill NaN values with 0 (or other preferred method)\n",
    "train_data = train_data.fill_null(0)\n"
   ]
  },
  {
   "cell_type": "code",
   "execution_count": 5,
   "id": "bfd670c9-0f46-479a-b6e9-bb2df3430379",
   "metadata": {
    "tags": []
   },
   "outputs": [],
   "source": [
    "# Define columns to exclude\n",
    "exclude_columns = ['date_id', 'time_id', 'symbol_id', 'weight', 'partition_id'] + \\\n",
    "                  [col for col in train_data.columns if col.startswith('responder_')]\n",
    "\n",
    "# Select numerical columns\n",
    "numerical_columns = [col for col in train_data.columns if col not in exclude_columns]\n"
   ]
  },
  {
   "cell_type": "code",
   "execution_count": 6,
   "id": "2aae2f50-94a7-497e-a634-54c45a236601",
   "metadata": {
    "tags": []
   },
   "outputs": [],
   "source": [
    "# Convert Polars DataFrame to NumPy for scaling\n",
    "scaler = MinMaxScaler()\n",
    "numerical_data = train_data.select(numerical_columns).to_numpy()\n",
    "\n",
    "# Scale numerical columns\n",
    "scaled_data = scaler.fit_transform(numerical_data)\n",
    "\n",
    "# Replace scaled data back in the Polars DataFrame\n",
    "scaled_df = pl.DataFrame(scaled_data, schema=numerical_columns)\n",
    "train_data = train_data.drop(numerical_columns).hstack(scaled_df)\n"
   ]
  },
  {
   "cell_type": "code",
   "execution_count": 8,
   "id": "1fa39283-04f5-4527-8670-0578c55175f7",
   "metadata": {
    "tags": []
   },
   "outputs": [
    {
     "data": {
      "text/html": [
       "<div><style>\n",
       ".dataframe > thead > tr,\n",
       ".dataframe > tbody > tr {\n",
       "  text-align: right;\n",
       "  white-space: pre-wrap;\n",
       "}\n",
       "</style>\n",
       "<small>shape: (5, 93)</small><table border=\"1\" class=\"dataframe\"><thead><tr><th>date_id</th><th>time_id</th><th>symbol_id</th><th>weight</th><th>responder_0</th><th>responder_1</th><th>responder_2</th><th>responder_3</th><th>responder_4</th><th>responder_5</th><th>responder_6</th><th>responder_7</th><th>responder_8</th><th>partition_id</th><th>feature_00</th><th>feature_01</th><th>feature_02</th><th>feature_03</th><th>feature_04</th><th>feature_05</th><th>feature_06</th><th>feature_07</th><th>feature_08</th><th>feature_09</th><th>feature_10</th><th>feature_11</th><th>feature_12</th><th>feature_13</th><th>feature_14</th><th>feature_15</th><th>feature_16</th><th>feature_17</th><th>feature_18</th><th>feature_19</th><th>feature_20</th><th>feature_21</th><th>feature_22</th><th>&hellip;</th><th>feature_42</th><th>feature_43</th><th>feature_44</th><th>feature_45</th><th>feature_46</th><th>feature_47</th><th>feature_48</th><th>feature_49</th><th>feature_50</th><th>feature_51</th><th>feature_52</th><th>feature_53</th><th>feature_54</th><th>feature_55</th><th>feature_56</th><th>feature_57</th><th>feature_58</th><th>feature_59</th><th>feature_60</th><th>feature_61</th><th>feature_62</th><th>feature_63</th><th>feature_64</th><th>feature_65</th><th>feature_66</th><th>feature_67</th><th>feature_68</th><th>feature_69</th><th>feature_70</th><th>feature_71</th><th>feature_72</th><th>feature_73</th><th>feature_74</th><th>feature_75</th><th>feature_76</th><th>feature_77</th><th>feature_78</th></tr><tr><td>i16</td><td>i16</td><td>i8</td><td>f32</td><td>f32</td><td>f32</td><td>f32</td><td>f32</td><td>f32</td><td>f32</td><td>f32</td><td>f32</td><td>f32</td><td>i64</td><td>f32</td><td>f32</td><td>f32</td><td>f32</td><td>f32</td><td>f32</td><td>f32</td><td>f32</td><td>f32</td><td>f32</td><td>f32</td><td>f32</td><td>f32</td><td>f32</td><td>f32</td><td>f32</td><td>f32</td><td>f32</td><td>f32</td><td>f32</td><td>f32</td><td>f32</td><td>f32</td><td>&hellip;</td><td>f32</td><td>f32</td><td>f32</td><td>f32</td><td>f32</td><td>f32</td><td>f32</td><td>f32</td><td>f32</td><td>f32</td><td>f32</td><td>f32</td><td>f32</td><td>f32</td><td>f32</td><td>f32</td><td>f32</td><td>f32</td><td>f32</td><td>f32</td><td>f32</td><td>f32</td><td>f32</td><td>f32</td><td>f32</td><td>f32</td><td>f32</td><td>f32</td><td>f32</td><td>f32</td><td>f32</td><td>f32</td><td>f32</td><td>f32</td><td>f32</td><td>f32</td><td>f32</td></tr></thead><tbody><tr><td>85</td><td>0</td><td>0</td><td>3.109312</td><td>0.62552</td><td>-0.310852</td><td>-0.049727</td><td>0.534198</td><td>0.198891</td><td>-1.069264</td><td>0.08607</td><td>0.273769</td><td>-1.012277</td><td>0</td><td>0.472176</td><td>0.477115</td><td>0.46872</td><td>0.45553</td><td>0.484776</td><td>0.407683</td><td>0.374309</td><td>0.394273</td><td>0.417295</td><td>0.1125</td><td>0.545455</td><td>0.126415</td><td>0.004958</td><td>0.002516</td><td>0.004336</td><td>0.014975</td><td>0.011851</td><td>0.016182</td><td>0.240309</td><td>0.390066</td><td>0.529444</td><td>0.003447</td><td>0.45861</td><td>&hellip;</td><td>0.509989</td><td>0.686283</td><td>0.542306</td><td>0.523023</td><td>0.531473</td><td>0.055818</td><td>0.374445</td><td>0.479017</td><td>0.556938</td><td>0.308719</td><td>0.549029</td><td>0.430893</td><td>0.410758</td><td>0.452865</td><td>0.230994</td><td>0.586376</td><td>0.434765</td><td>0.368225</td><td>0.441863</td><td>0.424024</td><td>0.002338</td><td>0.005114</td><td>0.005936</td><td>0.474298</td><td>0.510294</td><td>0.007815</td><td>0.002883</td><td>0.005926</td><td>0.006122</td><td>0.000856</td><td>0.003352</td><td>0.033741</td><td>0.026014</td><td>0.027316</td><td>0.020704</td><td>0.026509</td><td>0.02228</td></tr><tr><td>85</td><td>0</td><td>1</td><td>4.173016</td><td>0.503355</td><td>-0.094774</td><td>1.376147</td><td>0.487139</td><td>-0.026323</td><td>1.262791</td><td>0.233934</td><td>0.022418</td><td>0.401515</td><td>0</td><td>0.472176</td><td>0.477115</td><td>0.46872</td><td>0.45553</td><td>0.484776</td><td>0.405874</td><td>0.371698</td><td>0.394531</td><td>0.417012</td><td>0.1125</td><td>0.545455</td><td>0.126415</td><td>0.006245</td><td>0.00335</td><td>0.005714</td><td>0.014975</td><td>0.013263</td><td>0.016182</td><td>0.36588</td><td>0.367337</td><td>0.638666</td><td>0.003447</td><td>0.74606</td><td>&hellip;</td><td>0.509989</td><td>0.663297</td><td>0.542306</td><td>0.437079</td><td>0.751671</td><td>0.045415</td><td>0.377243</td><td>0.468906</td><td>0.556938</td><td>0.483197</td><td>0.549029</td><td>0.430893</td><td>0.315496</td><td>0.452865</td><td>0.285042</td><td>0.535432</td><td>0.434765</td><td>0.371859</td><td>0.438014</td><td>0.424024</td><td>0.00409</td><td>0.006476</td><td>0.014503</td><td>0.384289</td><td>0.417708</td><td>0.009524</td><td>0.003674</td><td>0.008467</td><td>0.006049</td><td>0.001049</td><td>0.003284</td><td>0.033741</td><td>0.026014</td><td>0.027652</td><td>0.020568</td><td>0.026359</td><td>0.022217</td></tr><tr><td>85</td><td>0</td><td>2</td><td>1.381817</td><td>5.0</td><td>5.0</td><td>-1.982797</td><td>5.0</td><td>5.0</td><td>-0.205135</td><td>0.4033</td><td>0.793304</td><td>2.807026</td><td>0</td><td>0.472176</td><td>0.477115</td><td>0.46872</td><td>0.45553</td><td>0.484776</td><td>0.402329</td><td>0.368157</td><td>0.38335</td><td>0.416891</td><td>0.9875</td><td>0.090909</td><td>0.09434</td><td>0.008581</td><td>0.016353</td><td>0.017169</td><td>0.014975</td><td>0.013123</td><td>0.016182</td><td>0.312509</td><td>0.340699</td><td>0.396479</td><td>0.003447</td><td>0.333757</td><td>&hellip;</td><td>0.509989</td><td>0.823772</td><td>0.542306</td><td>0.523023</td><td>0.531473</td><td>0.049142</td><td>0.394022</td><td>0.489217</td><td>0.556938</td><td>0.611577</td><td>0.549029</td><td>0.430893</td><td>0.456492</td><td>0.452865</td><td>0.299704</td><td>0.565893</td><td>0.434765</td><td>0.371202</td><td>0.439432</td><td>0.424024</td><td>0.002338</td><td>0.005114</td><td>0.005936</td><td>0.474298</td><td>0.510294</td><td>0.012743</td><td>0.019702</td><td>0.02084</td><td>0.007583</td><td>0.006656</td><td>0.011351</td><td>0.033741</td><td>0.026014</td><td>0.027756</td><td>0.020197</td><td>0.026952</td><td>0.022362</td></tr><tr><td>85</td><td>0</td><td>7</td><td>2.106224</td><td>-0.781161</td><td>-0.631942</td><td>0.152099</td><td>-2.374984</td><td>-1.785865</td><td>-0.273755</td><td>-1.696202</td><td>-0.548582</td><td>-0.81586</td><td>0</td><td>0.472176</td><td>0.477115</td><td>0.46872</td><td>0.45553</td><td>0.484776</td><td>0.398757</td><td>0.374288</td><td>0.390192</td><td>0.417201</td><td>0.1125</td><td>0.545455</td><td>0.126415</td><td>0.003254</td><td>0.002536</td><td>0.003796</td><td>0.014975</td><td>0.026587</td><td>0.016182</td><td>0.297364</td><td>0.372744</td><td>0.772192</td><td>0.003447</td><td>0.413171</td><td>&hellip;</td><td>0.509989</td><td>0.223054</td><td>0.542306</td><td>0.523023</td><td>0.531473</td><td>0.044446</td><td>0.376744</td><td>0.471335</td><td>0.556938</td><td>0.6372</td><td>0.549029</td><td>0.430893</td><td>0.285015</td><td>0.452865</td><td>0.377153</td><td>0.589548</td><td>0.434765</td><td>0.370797</td><td>0.43708</td><td>0.424024</td><td>0.002338</td><td>0.005114</td><td>0.005936</td><td>0.474298</td><td>0.510294</td><td>0.006725</td><td>0.003575</td><td>0.005227</td><td>0.005233</td><td>0.000697</td><td>0.001762</td><td>0.033741</td><td>0.026014</td><td>0.027337</td><td>0.020534</td><td>0.026126</td><td>0.022389</td></tr><tr><td>85</td><td>0</td><td>8</td><td>1.707147</td><td>4.280499</td><td>4.502849</td><td>1.735608</td><td>4.230651</td><td>5.0</td><td>-0.107674</td><td>1.533022</td><td>5.0</td><td>-4.17551</td><td>0</td><td>0.472176</td><td>0.477115</td><td>0.46872</td><td>0.45553</td><td>0.484776</td><td>0.406411</td><td>0.374718</td><td>0.398336</td><td>0.417527</td><td>0.1625</td><td>0.0</td><td>0.1</td><td>0.021755</td><td>0.049965</td><td>0.050826</td><td>0.014975</td><td>0.019111</td><td>0.016182</td><td>0.280273</td><td>0.224878</td><td>0.41004</td><td>0.003447</td><td>0.34003</td><td>&hellip;</td><td>0.509989</td><td>0.785653</td><td>0.542306</td><td>0.523023</td><td>0.531473</td><td>0.044133</td><td>0.383788</td><td>0.464249</td><td>0.556938</td><td>0.678946</td><td>0.549029</td><td>0.430893</td><td>0.321602</td><td>0.452865</td><td>0.429549</td><td>0.585474</td><td>0.434765</td><td>0.370423</td><td>0.43668</td><td>0.424024</td><td>0.002338</td><td>0.027481</td><td>0.023596</td><td>0.474298</td><td>0.510294</td><td>0.02412</td><td>0.085658</td><td>0.041342</td><td>0.015864</td><td>0.023015</td><td>0.037568</td><td>0.033741</td><td>0.026014</td><td>0.02759</td><td>0.020418</td><td>0.026294</td><td>0.022392</td></tr></tbody></table></div>"
      ],
      "text/plain": [
       "shape: (5, 93)\n",
       "┌─────────┬─────────┬───────────┬──────────┬───┬────────────┬────────────┬────────────┬────────────┐\n",
       "│ date_id ┆ time_id ┆ symbol_id ┆ weight   ┆ … ┆ feature_75 ┆ feature_76 ┆ feature_77 ┆ feature_78 │\n",
       "│ ---     ┆ ---     ┆ ---       ┆ ---      ┆   ┆ ---        ┆ ---        ┆ ---        ┆ ---        │\n",
       "│ i16     ┆ i16     ┆ i8        ┆ f32      ┆   ┆ f32        ┆ f32        ┆ f32        ┆ f32        │\n",
       "╞═════════╪═════════╪═══════════╪══════════╪═══╪════════════╪════════════╪════════════╪════════════╡\n",
       "│ 85      ┆ 0       ┆ 0         ┆ 3.109312 ┆ … ┆ 0.027316   ┆ 0.020704   ┆ 0.026509   ┆ 0.02228    │\n",
       "│ 85      ┆ 0       ┆ 1         ┆ 4.173016 ┆ … ┆ 0.027652   ┆ 0.020568   ┆ 0.026359   ┆ 0.022217   │\n",
       "│ 85      ┆ 0       ┆ 2         ┆ 1.381817 ┆ … ┆ 0.027756   ┆ 0.020197   ┆ 0.026952   ┆ 0.022362   │\n",
       "│ 85      ┆ 0       ┆ 7         ┆ 2.106224 ┆ … ┆ 0.027337   ┆ 0.020534   ┆ 0.026126   ┆ 0.022389   │\n",
       "│ 85      ┆ 0       ┆ 8         ┆ 1.707147 ┆ … ┆ 0.02759    ┆ 0.020418   ┆ 0.026294   ┆ 0.022392   │\n",
       "└─────────┴─────────┴───────────┴──────────┴───┴────────────┴────────────┴────────────┴────────────┘"
      ]
     },
     "execution_count": 8,
     "metadata": {},
     "output_type": "execute_result"
    }
   ],
   "source": [
    "train_data.head()"
   ]
  },
  {
   "cell_type": "code",
   "execution_count": 10,
   "id": "d3c4801a-76b5-473f-a1cc-269050793b68",
   "metadata": {
    "tags": []
   },
   "outputs": [],
   "source": [
    "# Save the cleaned data as Parquet\n",
    "train_data.write_parquet('/home/jupyter/data/RealEncoder.parquet', compression='snappy')\n",
    "\n"
   ]
  },
  {
   "cell_type": "code",
   "execution_count": 1,
   "id": "6da7e4b0-b4f7-405d-aeb5-c54f2427fc5c",
   "metadata": {
    "tags": []
   },
   "outputs": [
    {
     "ename": "NameError",
     "evalue": "name 'train_data' is not defined",
     "output_type": "error",
     "traceback": [
      "\u001b[0;31m---------------------------------------------------------------------------\u001b[0m",
      "\u001b[0;31mNameError\u001b[0m                                 Traceback (most recent call last)",
      "Cell \u001b[0;32mIn[1], line 1\u001b[0m\n\u001b[0;32m----> 1\u001b[0m \u001b[38;5;28mprint\u001b[39m(\u001b[38;5;124m\"\u001b[39m\u001b[38;5;124mColumns in saved data:\u001b[39m\u001b[38;5;124m\"\u001b[39m, \u001b[43mtrain_data\u001b[49m\u001b[38;5;241m.\u001b[39mcolumns)\n",
      "\u001b[0;31mNameError\u001b[0m: name 'train_data' is not defined"
     ]
    }
   ],
   "source": [
    "print(\"Columns in saved data:\", train_data.columns)"
   ]
  },
  {
   "cell_type": "code",
   "execution_count": null,
   "id": "b33cb2d7-9109-4d0f-90ef-58045842593a",
   "metadata": {},
   "outputs": [],
   "source": []
  }
 ],
 "metadata": {
  "environment": {
   "kernel": "conda-base-py",
   "name": "workbench-notebooks.m126",
   "type": "gcloud",
   "uri": "us-docker.pkg.dev/deeplearning-platform-release/gcr.io/workbench-notebooks:m126"
  },
  "kernelspec": {
   "display_name": "Python 3 (ipykernel)",
   "language": "python",
   "name": "conda-base-py"
  },
  "language_info": {
   "codemirror_mode": {
    "name": "ipython",
    "version": 3
   },
   "file_extension": ".py",
   "mimetype": "text/x-python",
   "name": "python",
   "nbconvert_exporter": "python",
   "pygments_lexer": "ipython3",
   "version": "3.10.15"
  }
 },
 "nbformat": 4,
 "nbformat_minor": 5
}
