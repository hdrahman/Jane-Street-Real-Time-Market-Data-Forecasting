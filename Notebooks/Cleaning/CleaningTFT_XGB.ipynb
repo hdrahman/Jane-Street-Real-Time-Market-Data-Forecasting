{
 "cells": [
  {
   "cell_type": "code",
   "execution_count": null,
   "id": "dcd3de2c-af00-468a-8af8-32496b5485e4",
   "metadata": {
    "tags": []
   },
   "outputs": [],
   "source": [
    "import pandas as pd\n",
    "import numpy as np\n",
    "from sklearn.preprocessing import MinMaxScaler\n",
    "\n",
    "train_data = pd.read_parquet('/home/jupyter/data/jane-street/train.parquet')\n",
    "#train_data.head()"
   ]
  },
  {
   "cell_type": "code",
   "execution_count": null,
   "id": "57a85859-da4c-4a5d-ab4f-f553507faa0f",
   "metadata": {
    "tags": []
   },
   "outputs": [],
   "source": [
    "train_data = train_data[train_data['date_id'] >= 85]\n",
    "# Drop rows that are completely empty\n",
    "train_data = train_data.dropna(how='all')"
   ]
  },
  {
   "cell_type": "code",
   "execution_count": null,
   "id": "bfd670c9-0f46-479a-b6e9-bb2df3430379",
   "metadata": {
    "tags": []
   },
   "outputs": [],
   "source": [
    "exclude_columns = ['date_id', 'time_id', 'symbol_id', 'weight', 'partition_id', \"responder_6\"]\n",
    "numerical_columns = [col for col in train_data.columns if col not in exclude_columns]"
   ]
  },
  {
   "cell_type": "code",
   "execution_count": null,
   "id": "dc2b7308-351e-49fc-83bb-169a52f5ebc5",
   "metadata": {
    "tags": []
   },
   "outputs": [],
   "source": [
    "train_data[numerical_columns] = train_data[numerical_columns].interpolate(method='linear', axis=0)\n",
    "train_data = train_data.dropna()"
   ]
  },
  {
   "cell_type": "code",
   "execution_count": null,
   "id": "33e2c4e2-b660-4d21-a9b3-00d229530c70",
   "metadata": {
    "tags": []
   },
   "outputs": [],
   "source": [
    "# Calculate IQR and clip\n",
    "q1 = train_data[numerical_columns].quantile(0.25)\n",
    "q3 = train_data[numerical_columns].quantile(0.75)\n",
    "iqr = q3 - q1\n",
    "lower_bound = q1 - 1.5 * iqr\n",
    "upper_bound = q3 + 1.5 * iqr\n",
    "train_data[numerical_columns] = train_data[numerical_columns].clip(lower=lower_bound, upper=upper_bound, axis=1)"
   ]
  },
  {
   "cell_type": "code",
   "execution_count": null,
   "id": "4ea1858f-e21d-439d-8b43-ce70ca7d90ec",
   "metadata": {
    "tags": []
   },
   "outputs": [],
   "source": [
    "print(train_data[numerical_columns].head())"
   ]
  },
  {
   "cell_type": "code",
   "execution_count": null,
   "id": "8e326937-1e1d-47bf-b325-2942c013ab34",
   "metadata": {
    "tags": []
   },
   "outputs": [],
   "source": [
    "for col in numerical_columns: #-> not needed\n",
    "    length = train_data[col].size\n",
    "    nan_count = train_data[col].isna().sum()\n",
    "    print(f\"Column: {col}, Length: {length}, NaN Count: {nan_count}\")"
   ]
  },
  {
   "cell_type": "code",
   "execution_count": null,
   "id": "370fe019-434b-4362-8a03-a84e3113c5d5",
   "metadata": {
    "tags": []
   },
   "outputs": [],
   "source": [
    "# Check for columns with NaN values -> not needed\n",
    "nan_counts = train_data.isnull().sum()\n",
    "columns_with_nan = nan_counts[nan_counts > 0]\n",
    "print(\"Columns with NaN values:\\n\", columns_with_nan)"
   ]
  },
  {
   "cell_type": "code",
   "execution_count": null,
   "id": "fc91037e-b24a-4144-8be3-5329e6dee383",
   "metadata": {
    "tags": []
   },
   "outputs": [],
   "source": [
    "# Identify constant columns (zero variance) -> not needed\n",
    "constant_columns = [col for col in numerical_columns if train_data[col].nunique() == 1]\n",
    "print(\"Constant columns:\", constant_columns)\n",
    "train_data = train_data.drop(columns=constant_columns)\n",
    "numerical_columns = [col for col in numerical_columns if col not in constant_columns]\n"
   ]
  },
  {
   "cell_type": "code",
   "execution_count": null,
   "id": "77eac4ee-fcdf-4d82-8fe4-b1c71a85a574",
   "metadata": {
    "tags": []
   },
   "outputs": [],
   "source": [
    "# Calculate correlation matrix\n",
    "corr_matrix = train_data[numerical_columns].corr().abs()\n",
    "correlated_pairs = [(i, j) for i in corr_matrix.columns for j in corr_matrix.columns \n",
    "                    if i != j and corr_matrix.loc[i, j] > 0.9]\n",
    "print(\"Highly correlated pairs:\", correlated_pairs)"
   ]
  },
  {
   "cell_type": "code",
   "execution_count": null,
   "id": "ccd83802-855c-45ee-9c02-5c53213e8219",
   "metadata": {
    "tags": []
   },
   "outputs": [],
   "source": [
    "# Drop one column from each correlated pair\n",
    "columns_to_drop = set()\n",
    "for i, j in correlated_pairs:\n",
    "    if i not in columns_to_drop and j not in columns_to_drop:\n",
    "        columns_to_drop.add(j)\n",
    "        \n",
    "train_data = train_data.drop(columns=list(columns_to_drop))\n",
    "numerical_columns = [col for col in numerical_columns if col not in columns_to_drop]"
   ]
  },
  {
   "cell_type": "code",
   "execution_count": null,
   "id": "d3c4801a-76b5-473f-a1cc-269050793b68",
   "metadata": {
    "tags": []
   },
   "outputs": [],
   "source": [
    "train_data.to_parquet('/home/jupyter/data/TFT.parquet', engine='pyarrow', compression='snappy')"
   ]
  },
  {
   "cell_type": "code",
   "execution_count": null,
   "id": "2aae2f50-94a7-497e-a634-54c45a236601",
   "metadata": {
    "tags": []
   },
   "outputs": [],
   "source": [
    "# Initialize scaler - TFT only\n",
    "scaler = MinMaxScaler()\n",
    "train_data[numerical_columns] = scaler.fit_transform(train_data[numerical_columns])"
   ]
  }
 ],
 "metadata": {
  "environment": {
   "kernel": "conda-base-py",
   "name": "workbench-notebooks.m126",
   "type": "gcloud",
   "uri": "us-docker.pkg.dev/deeplearning-platform-release/gcr.io/workbench-notebooks:m126"
  },
  "kernelspec": {
   "display_name": "Python 3 (ipykernel)",
   "language": "python",
   "name": "conda-base-py"
  },
  "language_info": {
   "codemirror_mode": {
    "name": "ipython",
    "version": 3
   },
   "file_extension": ".py",
   "mimetype": "text/x-python",
   "name": "python",
   "nbconvert_exporter": "python",
   "pygments_lexer": "ipython3",
   "version": "3.10.15"
  }
 },
 "nbformat": 4,
 "nbformat_minor": 5
}
